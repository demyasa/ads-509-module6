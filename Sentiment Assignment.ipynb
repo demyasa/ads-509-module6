{
 "cells": [
  {
   "cell_type": "markdown",
   "id": "7f79baf9",
   "metadata": {},
   "source": [
    "# ADS 509 Sentiment Assignment\n",
    "\n",
    "This notebook holds the Sentiment Assignment for Module 6 in ADS 509, Applied Text Mining. Work through this notebook, writing code and answering questions where required. \n",
    "\n",
    "In a previous assignment you put together Twitter data and lyrics data on two artists. In this assignment we apply sentiment analysis to those data sets. If, for some reason, you did not complete that previous assignment, data to use for this assignment can be found in the assignment materials section of Blackboard. \n"
   ]
  },
  {
   "cell_type": "markdown",
   "id": "aae8e2e1",
   "metadata": {},
   "source": [
    "## General Assignment Instructions\n",
    "\n",
    "These instructions are included in every assignment, to remind you of the coding standards for the class. Feel free to delete this cell after reading it. \n",
    "\n",
    "One sign of mature code is conforming to a style guide. We recommend the [Google Python Style Guide](https://google.github.io/styleguide/pyguide.html). If you use a different style guide, please include a cell with a link. \n",
    "\n",
    "Your code should be relatively easy-to-read, sensibly commented, and clean. Writing code is a messy process, so please be sure to edit your final submission. Remove any cells that are not needed or parts of cells that contain unnecessary code. Remove inessential `import` statements and make sure that all such statements are moved into the designated cell. \n",
    "\n",
    "Make use of non-code cells for written commentary. These cells should be grammatical and clearly written. In some of these cells you will have questions to answer. The questions will be marked by a \"Q:\" and will have a corresponding \"A:\" spot for you. *Make sure to answer every question marked with a `Q:` for full credit.* \n"
   ]
  },
  {
   "cell_type": "code",
   "execution_count": 39,
   "id": "e2d096b7",
   "metadata": {},
   "outputs": [],
   "source": [
    "import os\n",
    "import regex as re   # stack overflow suggestion for REGEX error encountered\n",
    "import emoji\n",
    "import pandas as pd\n",
    "import numpy as np\n",
    "import random\n",
    "\n",
    "\n",
    "from pprintpp import pprint\n",
    "from collections import Counter, defaultdict\n",
    "from string import punctuation\n",
    "\n",
    "from nltk.corpus import stopwords\n",
    "\n",
    "sw = stopwords.words(\"english\")"
   ]
  },
  {
   "cell_type": "code",
   "execution_count": 2,
   "id": "6b555ab2",
   "metadata": {},
   "outputs": [],
   "source": [
    "# Add any additional import statements you need here\n",
    "\n",
    "import textacy.preprocessing as tprep\n",
    "from lexical_diversity import lex_div as ld\n",
    "import spacy\n",
    "\n",
    "from spacy.tokenizer import Tokenizer\n",
    "from spacy.util import compile_prefix_regex, compile_infix_regex, compile_suffix_regex \n",
    "\n",
    "nlp = spacy.load('en_core_web_sm')\n",
    "\n",
    "import string\n",
    "from pprintpp import pprint\n",
    "\n",
    "import seaborn as sns\n",
    "import plotly.express as px\n"
   ]
  },
  {
   "cell_type": "code",
   "execution_count": 3,
   "id": "923b5a86",
   "metadata": {},
   "outputs": [],
   "source": [
    "# change `data_location` to the location of the folder on your machine.\n",
    "\n",
    "data_location = \"/Users/dunya/Desktop/mod6\"\n",
    "\n",
    "twitter_folder = f\"{data_location}/twitter/\"\n",
    "lyrics_folder = f\"{data_location}/lyrics\"\n",
    "\n",
    "artist_files = {'cher':'cher_followers_data.txt',\n",
    "                'robyn':'robynkonichiwa_followers_data.txt'}\n",
    "\n",
    "positive_words_file = \"positive-words.txt\"\n",
    "negative_words_file = \"negative-words.txt\"\n",
    "tidy_text_file = \"tidytext_sentiments.txt\""
   ]
  },
  {
   "cell_type": "markdown",
   "id": "9d3bf93e",
   "metadata": {},
   "source": [
    "## Data Input\n",
    "\n",
    "Now read in each of the corpora. For the lyrics data, it may be convenient to store the entire contents of the file to make it easier to inspect the titles individually, as you'll do in the last part of the assignment. In the solution, I stored the lyrics data in a dictionary with two dimensions of keys: artist and song. The value was the file contents. A Pandas data frame would work equally well. \n",
    "\n",
    "For the Twitter data, we only need the description field for this assignment. Feel free all the descriptions read it into a data structure. In the solution, I stored the descriptions as a dictionary of lists, with the key being the artist. \n",
    "\n",
    "\n"
   ]
  },
  {
   "cell_type": "code",
   "execution_count": 4,
   "id": "37d70801",
   "metadata": {},
   "outputs": [],
   "source": [
    "# Read in the lyrics data\n",
    "\n",
    "os.listdir(lyrics_folder) \n",
    "  \n",
    "# Helper to read text file\n",
    "\n",
    "def read_text_file(file_path):\n",
    "    with open(file_path, 'r') as f:\n",
    "        return f.read()\n",
    "   \n",
    "# Function to iterate through all files\n",
    "\n",
    "def load_songs(artist):\n",
    "    path = f\"{lyrics_folder}/{artist}/\"                          # designate path\n",
    "    os.chdir(path)                                               # change to path directory\n",
    "    song_list = []\n",
    "    for file in os.listdir():\n",
    "        if file.endswith(\".txt\"):                                # check for text format\n",
    "            songs_dict = {}\n",
    "            file_path = f\"{path}{file}\"\n",
    "            path_components = file_path.split('/')\n",
    "            songs_dict[\"title\"] = path_components[-1]            # get title from file path\n",
    "            songs_dict[\"artist\"] = path_components[-2]           # get artist from file path\n",
    "            songs_dict[\"lyrics\"] = read_text_file(file_path)     # extract lyrics\n",
    "            song_list.append(songs_dict)\n",
    "    return song_list"
   ]
  },
  {
   "cell_type": "code",
   "execution_count": 5,
   "id": "056ef6e5",
   "metadata": {},
   "outputs": [],
   "source": [
    "# Read in the lyrics data using load_songs function above\n",
    "\n",
    "artist_names = [\"cher\", \"robyn\"]\n",
    "\n",
    "read_cher = pd.DataFrame(load_songs(\"cher\"))\n",
    "read_robyn = pd.DataFrame(load_songs(\"robyn\"))\n",
    "\n",
    "# Convert list of dictionaries to pandas\n",
    "\n",
    "lyrics_data = pd.concat([read_cher, read_robyn])"
   ]
  },
  {
   "cell_type": "code",
   "execution_count": 6,
   "id": "debcac5a",
   "metadata": {},
   "outputs": [],
   "source": [
    "# Read in the twitter data\n",
    "\n",
    "# Cher\n",
    "\n",
    "twitter_data = pd.read_csv(twitter_folder + artist_files['cher'],\n",
    "                           sep=\"\\t\",\n",
    "                           quoting=3)\n",
    "\n",
    "twitter_data['artist'] = \"cher\"\n",
    "\n",
    "# Robyn\n",
    "\n",
    "twitter_data_2 = pd.read_csv(twitter_folder + artist_files['robyn'],\n",
    "                             sep=\"\\t\",\n",
    "                             quoting=3)\n",
    "twitter_data_2['artist'] = \"robyn\"\n",
    "\n",
    "# Merge data\n",
    "\n",
    "twitter_data = pd.concat([\n",
    "    twitter_data,twitter_data_2])\n",
    "    \n",
    "del(twitter_data_2)"
   ]
  },
  {
   "cell_type": "code",
   "execution_count": 7,
   "id": "af9e7a4b",
   "metadata": {},
   "outputs": [],
   "source": [
    "# Read in the positive and negative words and the\n",
    "# tidytext sentiment. Store these so that the positive\n",
    "# words are associated with a score of +1 and negative words\n",
    "# are associated with a score of -1. You can use a dataframe or a \n",
    "# dictionary for this.\n",
    "\n",
    "# Function to load + / - / tidy\n",
    "\n",
    "def load_tidy():\n",
    "    tidy_dict = {}\n",
    "    path = f\"{data_location}/{tidy_text_file}\"     # designate tidy path\n",
    "    \n",
    "    with open(path, 'r') as f:\n",
    "        # columns = ['word','sentiment', 'lexicon']\n",
    "        tidy_df = pd.read_table(path, usecols = ['word','sentiment', 'lexicon']) \n",
    "        # TO_DICT\n",
    "    return tidy_df\n",
    "\n",
    "# Function to assign + / -\n",
    "\n",
    "def assign_score(sentiment):\n",
    "    if sentiment == \"negative\":\n",
    "        return -1\n",
    "    else:\n",
    "        return 1\n"
   ]
  },
  {
   "cell_type": "code",
   "execution_count": 8,
   "id": "dc72a356",
   "metadata": {},
   "outputs": [
    {
     "data": {
      "text/html": [
       "<div>\n",
       "<style scoped>\n",
       "    .dataframe tbody tr th:only-of-type {\n",
       "        vertical-align: middle;\n",
       "    }\n",
       "\n",
       "    .dataframe tbody tr th {\n",
       "        vertical-align: top;\n",
       "    }\n",
       "\n",
       "    .dataframe thead th {\n",
       "        text-align: right;\n",
       "    }\n",
       "</style>\n",
       "<table border=\"1\" class=\"dataframe\">\n",
       "  <thead>\n",
       "    <tr style=\"text-align: right;\">\n",
       "      <th></th>\n",
       "      <th>word</th>\n",
       "      <th>sentiment</th>\n",
       "      <th>lexicon</th>\n",
       "      <th>score</th>\n",
       "    </tr>\n",
       "  </thead>\n",
       "  <tbody>\n",
       "    <tr>\n",
       "      <th>0</th>\n",
       "      <td>abandon</td>\n",
       "      <td>negative</td>\n",
       "      <td>nrc</td>\n",
       "      <td>-1</td>\n",
       "    </tr>\n",
       "    <tr>\n",
       "      <th>1</th>\n",
       "      <td>abandoned</td>\n",
       "      <td>negative</td>\n",
       "      <td>nrc</td>\n",
       "      <td>-1</td>\n",
       "    </tr>\n",
       "    <tr>\n",
       "      <th>2</th>\n",
       "      <td>abandonment</td>\n",
       "      <td>negative</td>\n",
       "      <td>nrc</td>\n",
       "      <td>-1</td>\n",
       "    </tr>\n",
       "    <tr>\n",
       "      <th>3</th>\n",
       "      <td>abba</td>\n",
       "      <td>positive</td>\n",
       "      <td>nrc</td>\n",
       "      <td>1</td>\n",
       "    </tr>\n",
       "    <tr>\n",
       "      <th>4</th>\n",
       "      <td>abduction</td>\n",
       "      <td>negative</td>\n",
       "      <td>nrc</td>\n",
       "      <td>-1</td>\n",
       "    </tr>\n",
       "    <tr>\n",
       "      <th>...</th>\n",
       "      <td>...</td>\n",
       "      <td>...</td>\n",
       "      <td>...</td>\n",
       "      <td>...</td>\n",
       "    </tr>\n",
       "    <tr>\n",
       "      <th>15128</th>\n",
       "      <td>win</td>\n",
       "      <td>positive</td>\n",
       "      <td>loughran</td>\n",
       "      <td>1</td>\n",
       "    </tr>\n",
       "    <tr>\n",
       "      <th>15129</th>\n",
       "      <td>winner</td>\n",
       "      <td>positive</td>\n",
       "      <td>loughran</td>\n",
       "      <td>1</td>\n",
       "    </tr>\n",
       "    <tr>\n",
       "      <th>15130</th>\n",
       "      <td>winners</td>\n",
       "      <td>positive</td>\n",
       "      <td>loughran</td>\n",
       "      <td>1</td>\n",
       "    </tr>\n",
       "    <tr>\n",
       "      <th>15131</th>\n",
       "      <td>winning</td>\n",
       "      <td>positive</td>\n",
       "      <td>loughran</td>\n",
       "      <td>1</td>\n",
       "    </tr>\n",
       "    <tr>\n",
       "      <th>15132</th>\n",
       "      <td>worthy</td>\n",
       "      <td>positive</td>\n",
       "      <td>loughran</td>\n",
       "      <td>1</td>\n",
       "    </tr>\n",
       "  </tbody>\n",
       "</table>\n",
       "<p>15133 rows × 4 columns</p>\n",
       "</div>"
      ],
      "text/plain": [
       "              word sentiment   lexicon  score\n",
       "0          abandon  negative       nrc     -1\n",
       "1        abandoned  negative       nrc     -1\n",
       "2      abandonment  negative       nrc     -1\n",
       "3             abba  positive       nrc      1\n",
       "4        abduction  negative       nrc     -1\n",
       "...            ...       ...       ...    ...\n",
       "15128          win  positive  loughran      1\n",
       "15129       winner  positive  loughran      1\n",
       "15130      winners  positive  loughran      1\n",
       "15131      winning  positive  loughran      1\n",
       "15132       worthy  positive  loughran      1\n",
       "\n",
       "[15133 rows x 4 columns]"
      ]
     },
     "metadata": {},
     "output_type": "display_data"
    }
   ],
   "source": [
    "# Read in the tidy data using the load_tidy function\n",
    "\n",
    "tidy_df = load_tidy()\n",
    "\n",
    "# Apply the assign_score function\n",
    "\n",
    "tidy_df[\"score\"] = tidy_df[\"sentiment\"].apply(assign_score)\n",
    "\n",
    "display(tidy_df)"
   ]
  },
  {
   "cell_type": "code",
   "execution_count": 9,
   "id": "2671ded9",
   "metadata": {},
   "outputs": [],
   "source": [
    "# Pipeline functions\n",
    "\n",
    "# Some punctuation variations\n",
    "punctuation = set(punctuation) # speeds up comparison\n",
    "tw_punct = punctuation - {\"#\"}\n",
    "\n",
    "# Two useful regex\n",
    "whitespace_pattern = re.compile(r\"\\s+\")\n",
    "hashtag_pattern = re.compile(r\"^#[0-9a-zA-Z]+\")\n",
    "\n",
    "def remove_stop(tokens) :\n",
    "    # modify this function to remove stopwords\n",
    "    stop_words = spacy.lang.en.STOP_WORDS                        # load stop words\n",
    "\n",
    "    potential_stop_words = [ '', 'im', 'like',                   \n",
    "                            'dont', 'got', 'cause',              # added extra stop words\n",
    "                            'wanna', 'youre']\n",
    "    \n",
    "    for wrd in potential_stop_words:\n",
    "        stop_words.add(wrd)\n",
    "\n",
    "    removed = [w for w in tokens if not w in stop_words]         # remove stop words\n",
    "    return(removed)\n",
    "\n",
    " \n",
    "def remove_punctuation(text, punct_set=punctuation) : \n",
    "    return(\"\".join([ch for ch in text if ch not in punct_set]))\n",
    "\n",
    "def tokenize(text) : \n",
    "    \"\"\" Splitting on whitespace rather than the book's tokenize function. That \n",
    "        function will drop tokens like '#hashtag' or '2A', which we need for Twitter. \"\"\"\n",
    "    \n",
    "    # modify this function to return tokens\n",
    "    collapse_whitespace = re.compile(r'\\s+')\n",
    "    return([item.lower() for item in collapse_whitespace.split(text)])  # using Module 2\n",
    "    \n",
    "def prepare(text, pipeline) : \n",
    "    tokens = str(text)\n",
    "    \n",
    "    for transform in pipeline : \n",
    "        tokens = transform(tokens)\n",
    "        \n",
    "    return(tokens)\n"
   ]
  },
  {
   "cell_type": "code",
   "execution_count": 10,
   "id": "3a115afa",
   "metadata": {},
   "outputs": [],
   "source": [
    "# Create pipline using functions above\n",
    "\n",
    "my_pipeline = [str.lower, remove_punctuation, tokenize, remove_stop]\n",
    "\n",
    "# Apply piplines functions to generate tokens from text\n",
    "\n",
    "lyrics_data[\"tokens\"] = lyrics_data[\"lyrics\"].apply(prepare,pipeline = my_pipeline)\n",
    "twitter_data[\"tokens\"] = twitter_data[\"description\"].apply(prepare,pipeline = my_pipeline)\n",
    "\n"
   ]
  },
  {
   "cell_type": "markdown",
   "id": "6a5f3b12",
   "metadata": {},
   "source": [
    "## Sentiment Analysis on Songs\n",
    "\n",
    "In this section, score the sentiment for all the songs for both artists in your data set. Score the sentiment by manually calculating the sentiment using the combined lexicons provided in this repository. \n",
    "\n",
    "After you have calculated these sentiments, answer the questions at the end of this section.\n"
   ]
  },
  {
   "cell_type": "code",
   "execution_count": 11,
   "id": "664f8d8f",
   "metadata": {},
   "outputs": [],
   "source": [
    "# Score sentiment for all the songs of both artists\n",
    "\n",
    "# for artist -> song -> tokenize -> calc_sentiment\n",
    "\n",
    "test_arr = ['come','stay','ill','send','away','false','pride','ill',\n",
    "            'forsake','life','yes','ill','true','true','youll','come',\n",
    "            'stay','lovers','past','ill','leave','theyll','mind','ill',\n",
    "            'youll','feel','free','youll','come','stay','promise',\n",
    "            'faithfully','ill','decide','leave','ill','try','need',\n",
    "            'youll','come','stay','yes','ill','true','true','youll',\n",
    "            'come','stay','live','life','known','know','think','hardly',\n",
    "            'grown','oh','thank','god','finally','gonna','stay','gonna','stay']\n",
    "\n",
    "# Function to calculate sentiment from token array\n",
    "\n",
    "def calc_sentiment(token_arr):\n",
    "    total_sent = 0\n",
    "    for token in token_arr:\n",
    "        df = tidy_df.loc[tidy_df['word'] == token]  # find word\n",
    "        if len(df) == 0:\n",
    "            total_sent += 0                     # if not found, add 0\n",
    "        else:\n",
    "            val = df['score'].tolist()          # if found, get value\n",
    "            total_sent += val[0]                # add first value\n",
    "    return total_sent\n"
   ]
  },
  {
   "cell_type": "code",
   "execution_count": 12,
   "id": "1f14dffe",
   "metadata": {},
   "outputs": [
    {
     "data": {
      "text/html": [
       "<div>\n",
       "<style scoped>\n",
       "    .dataframe tbody tr th:only-of-type {\n",
       "        vertical-align: middle;\n",
       "    }\n",
       "\n",
       "    .dataframe tbody tr th {\n",
       "        vertical-align: top;\n",
       "    }\n",
       "\n",
       "    .dataframe thead th {\n",
       "        text-align: right;\n",
       "    }\n",
       "</style>\n",
       "<table border=\"1\" class=\"dataframe\">\n",
       "  <thead>\n",
       "    <tr style=\"text-align: right;\">\n",
       "      <th></th>\n",
       "      <th>title</th>\n",
       "      <th>artist</th>\n",
       "      <th>lyrics</th>\n",
       "      <th>tokens</th>\n",
       "      <th>song_sentiment</th>\n",
       "    </tr>\n",
       "  </thead>\n",
       "  <tbody>\n",
       "    <tr>\n",
       "      <th>0</th>\n",
       "      <td>cher_comeandstaywithme.txt</td>\n",
       "      <td>cher</td>\n",
       "      <td>\"Come And Stay With Me\"\\n\\n\\n\\nI'll send away ...</td>\n",
       "      <td>[come, stay, ill, send, away, false, pride, il...</td>\n",
       "      <td>-1</td>\n",
       "    </tr>\n",
       "    <tr>\n",
       "      <th>1</th>\n",
       "      <td>cher_pirate.txt</td>\n",
       "      <td>cher</td>\n",
       "      <td>\"Pirate\"\\n\\n\\n\\nHe'll sail on with the summer ...</td>\n",
       "      <td>[pirate, hell, sail, summer, wind, blows, day,...</td>\n",
       "      <td>7</td>\n",
       "    </tr>\n",
       "    <tr>\n",
       "      <th>2</th>\n",
       "      <td>cher_stars.txt</td>\n",
       "      <td>cher</td>\n",
       "      <td>\"Stars\"\\n\\n\\n\\nI was never one for saying what...</td>\n",
       "      <td>[stars, saying, feel, tonight, bringing, know,...</td>\n",
       "      <td>4</td>\n",
       "    </tr>\n",
       "    <tr>\n",
       "      <th>3</th>\n",
       "      <td>cher_thesedays.txt</td>\n",
       "      <td>cher</td>\n",
       "      <td>\"These Days\"\\n\\n\\n\\nWell I've been out walking...</td>\n",
       "      <td>[days, ive, walking, talking, days, days, days...</td>\n",
       "      <td>-8</td>\n",
       "    </tr>\n",
       "    <tr>\n",
       "      <th>4</th>\n",
       "      <td>cher_lovesohigh.txt</td>\n",
       "      <td>cher</td>\n",
       "      <td>\"Love So High\"\\n\\n\\n\\nEvery morning I would wa...</td>\n",
       "      <td>[love, high, morning, wake, id, tie, sun, cup,...</td>\n",
       "      <td>12</td>\n",
       "    </tr>\n",
       "  </tbody>\n",
       "</table>\n",
       "</div>"
      ],
      "text/plain": [
       "                        title artist  \\\n",
       "0  cher_comeandstaywithme.txt   cher   \n",
       "1             cher_pirate.txt   cher   \n",
       "2              cher_stars.txt   cher   \n",
       "3          cher_thesedays.txt   cher   \n",
       "4         cher_lovesohigh.txt   cher   \n",
       "\n",
       "                                              lyrics  \\\n",
       "0  \"Come And Stay With Me\"\\n\\n\\n\\nI'll send away ...   \n",
       "1  \"Pirate\"\\n\\n\\n\\nHe'll sail on with the summer ...   \n",
       "2  \"Stars\"\\n\\n\\n\\nI was never one for saying what...   \n",
       "3  \"These Days\"\\n\\n\\n\\nWell I've been out walking...   \n",
       "4  \"Love So High\"\\n\\n\\n\\nEvery morning I would wa...   \n",
       "\n",
       "                                              tokens  song_sentiment  \n",
       "0  [come, stay, ill, send, away, false, pride, il...              -1  \n",
       "1  [pirate, hell, sail, summer, wind, blows, day,...               7  \n",
       "2  [stars, saying, feel, tonight, bringing, know,...               4  \n",
       "3  [days, ive, walking, talking, days, days, days...              -8  \n",
       "4  [love, high, morning, wake, id, tie, sun, cup,...              12  "
      ]
     },
     "execution_count": 12,
     "metadata": {},
     "output_type": "execute_result"
    }
   ],
   "source": [
    "# Apply sentiment calculation to lyrics data\n",
    "\n",
    "lyrics_data[\"song_sentiment\"] = lyrics_data[\"tokens\"].apply(calc_sentiment)\n",
    "\n",
    "lyrics_data.head()"
   ]
  },
  {
   "cell_type": "markdown",
   "id": "5a1654c4",
   "metadata": {},
   "source": [
    "### Questions\n",
    "\n",
    "Q: Overall, which artist has the higher average sentiment per song? "
   ]
  },
  {
   "cell_type": "code",
   "execution_count": 13,
   "id": "767d2a97",
   "metadata": {},
   "outputs": [
    {
     "name": "stdout",
     "output_type": "stream",
     "text": [
      "Cher Average Sentiment:  4.113924050632911\n",
      "Robyn Average Sentiment:  6.009615384615385\n"
     ]
    }
   ],
   "source": [
    "# Create artist dfs\n",
    "\n",
    "cher_lyrics = lyrics_data[lyrics_data[\"artist\"] == \"cher\"]\n",
    "robyn_lyrics = lyrics_data[lyrics_data[\"artist\"] == \"robyn\"]\n",
    "\n",
    "# Get sentiment averages \n",
    "\n",
    "print(\"Cher Average Sentiment: \", cher_lyrics[\"song_sentiment\"].mean())\n",
    "print(\"Robyn Average Sentiment: \", robyn_lyrics[\"song_sentiment\"].mean())\n"
   ]
  },
  {
   "cell_type": "markdown",
   "id": "5874362e",
   "metadata": {},
   "source": [
    "A: Based on the calculations above, Robyn has about 50% more sentiment than Cher on average.\n",
    "\n",
    "---"
   ]
  },
  {
   "cell_type": "markdown",
   "id": "58cb29d6",
   "metadata": {},
   "source": [
    "Q: For your first artist, what are the three songs that have the highest and lowest sentiments? Print the lyrics of those songs to the screen. What do you think is driving the sentiment score? "
   ]
  },
  {
   "cell_type": "code",
   "execution_count": 14,
   "id": "67ec718b",
   "metadata": {},
   "outputs": [
    {
     "name": "stdout",
     "output_type": "stream",
     "text": [
      "|=========== Cher's Highest Sentiment Songs: ==========|\n",
      "\n"
     ]
    },
    {
     "data": {
      "text/html": [
       "<div>\n",
       "<style scoped>\n",
       "    .dataframe tbody tr th:only-of-type {\n",
       "        vertical-align: middle;\n",
       "    }\n",
       "\n",
       "    .dataframe tbody tr th {\n",
       "        vertical-align: top;\n",
       "    }\n",
       "\n",
       "    .dataframe thead th {\n",
       "        text-align: right;\n",
       "    }\n",
       "</style>\n",
       "<table border=\"1\" class=\"dataframe\">\n",
       "  <thead>\n",
       "    <tr style=\"text-align: right;\">\n",
       "      <th></th>\n",
       "      <th>title</th>\n",
       "      <th>artist</th>\n",
       "      <th>lyrics</th>\n",
       "      <th>tokens</th>\n",
       "      <th>song_sentiment</th>\n",
       "    </tr>\n",
       "  </thead>\n",
       "  <tbody>\n",
       "    <tr>\n",
       "      <th>234</th>\n",
       "      <td>cher_ifoundyoulove.txt</td>\n",
       "      <td>cher</td>\n",
       "      <td>\"I Found You Love\"\\n\\n\\n\\nWell I was looking f...</td>\n",
       "      <td>[found, love, looking, new, love, different, k...</td>\n",
       "      <td>46</td>\n",
       "    </tr>\n",
       "    <tr>\n",
       "      <th>103</th>\n",
       "      <td>cher_perfection.txt</td>\n",
       "      <td>cher</td>\n",
       "      <td>\"Perfection\"\\n\\n\\n\\nHush little Baby, gotta be...</td>\n",
       "      <td>[perfection, hush, little, baby, gotta, strong...</td>\n",
       "      <td>45</td>\n",
       "    </tr>\n",
       "    <tr>\n",
       "      <th>15</th>\n",
       "      <td>cher_mylove.txt</td>\n",
       "      <td>cher</td>\n",
       "      <td>\"My Love\"\\n\\n\\n\\nWhen I go away\\nI know my hea...</td>\n",
       "      <td>[love, away, know, heart, stay, love, understo...</td>\n",
       "      <td>44</td>\n",
       "    </tr>\n",
       "  </tbody>\n",
       "</table>\n",
       "</div>"
      ],
      "text/plain": [
       "                      title artist  \\\n",
       "234  cher_ifoundyoulove.txt   cher   \n",
       "103     cher_perfection.txt   cher   \n",
       "15          cher_mylove.txt   cher   \n",
       "\n",
       "                                                lyrics  \\\n",
       "234  \"I Found You Love\"\\n\\n\\n\\nWell I was looking f...   \n",
       "103  \"Perfection\"\\n\\n\\n\\nHush little Baby, gotta be...   \n",
       "15   \"My Love\"\\n\\n\\n\\nWhen I go away\\nI know my hea...   \n",
       "\n",
       "                                                tokens  song_sentiment  \n",
       "234  [found, love, looking, new, love, different, k...              46  \n",
       "103  [perfection, hush, little, baby, gotta, strong...              45  \n",
       "15   [love, away, know, heart, stay, love, understo...              44  "
      ]
     },
     "metadata": {},
     "output_type": "display_data"
    },
    {
     "name": "stdout",
     "output_type": "stream",
     "text": [
      "\"I Found You Love\"\n",
      "\n",
      "\n",
      "\n",
      "Well I was looking for a new love, a different kind of true love\n",
      "Who's gonna treat me right, all day and night\n",
      "Hey baby I've been looking too\n",
      "And I have found there's\n",
      "No other love from me but you\n",
      "Well I was looking for a new lo \n",
      "\n",
      "\"Perfection\"\n",
      "\n",
      "\n",
      "\n",
      "Hush little Baby, gotta be strong\n",
      "'Cause in this world we are born to fight\n",
      "Be the best, prove them wrong\n",
      "A winner's work is never done, reach the top, number one\n",
      "\n",
      "Oh, perfection\n",
      "You drive me crazy with perfection\n",
      "I've worn my pride a \n",
      "\n",
      "\"My Love\"\n",
      "\n",
      "\n",
      "\n",
      "When I go away\n",
      "I know my heart can stay with my love\n",
      "It's understood\n",
      "Everywhere with my love\n",
      "My love does it good, whoa\n",
      "My love, oh only my love\n",
      "My love does it good\n",
      "\n",
      "And when the cupboard's bare\n",
      "I'll still find something there with my l \n",
      "\n",
      "|=========== Cher's Lowest Sentiment Songs: ===========|\n",
      "\n"
     ]
    },
    {
     "data": {
      "text/html": [
       "<div>\n",
       "<style scoped>\n",
       "    .dataframe tbody tr th:only-of-type {\n",
       "        vertical-align: middle;\n",
       "    }\n",
       "\n",
       "    .dataframe tbody tr th {\n",
       "        vertical-align: top;\n",
       "    }\n",
       "\n",
       "    .dataframe thead th {\n",
       "        text-align: right;\n",
       "    }\n",
       "</style>\n",
       "<table border=\"1\" class=\"dataframe\">\n",
       "  <thead>\n",
       "    <tr style=\"text-align: right;\">\n",
       "      <th></th>\n",
       "      <th>title</th>\n",
       "      <th>artist</th>\n",
       "      <th>lyrics</th>\n",
       "      <th>tokens</th>\n",
       "      <th>song_sentiment</th>\n",
       "    </tr>\n",
       "  </thead>\n",
       "  <tbody>\n",
       "    <tr>\n",
       "      <th>41</th>\n",
       "      <td>cher_bangbang.txt</td>\n",
       "      <td>cher</td>\n",
       "      <td>\"Bang-Bang\"\\n\\n\\n\\nBang bang you shot me down\\...</td>\n",
       "      <td>[bangbang, bang, bang, shot, bang, bang, hit, ...</td>\n",
       "      <td>-71</td>\n",
       "    </tr>\n",
       "    <tr>\n",
       "      <th>195</th>\n",
       "      <td>cher_bangbangmybabyshotmedown.txt</td>\n",
       "      <td>cher</td>\n",
       "      <td>\"Bang Bang (My Baby Shot Me Down)\"\\n\\n\\n\\nI wa...</td>\n",
       "      <td>[bang, bang, baby, shot, rode, horses, sticks,...</td>\n",
       "      <td>-35</td>\n",
       "    </tr>\n",
       "    <tr>\n",
       "      <th>158</th>\n",
       "      <td>cher_outrageous.txt</td>\n",
       "      <td>cher</td>\n",
       "      <td>\"Outrageous\"\\n\\n\\n\\nOutrageous, outrageous\\n(T...</td>\n",
       "      <td>[outrageous, outrageous, outrageous, outrageou...</td>\n",
       "      <td>-33</td>\n",
       "    </tr>\n",
       "  </tbody>\n",
       "</table>\n",
       "</div>"
      ],
      "text/plain": [
       "                                 title artist  \\\n",
       "41                   cher_bangbang.txt   cher   \n",
       "195  cher_bangbangmybabyshotmedown.txt   cher   \n",
       "158                cher_outrageous.txt   cher   \n",
       "\n",
       "                                                lyrics  \\\n",
       "41   \"Bang-Bang\"\\n\\n\\n\\nBang bang you shot me down\\...   \n",
       "195  \"Bang Bang (My Baby Shot Me Down)\"\\n\\n\\n\\nI wa...   \n",
       "158  \"Outrageous\"\\n\\n\\n\\nOutrageous, outrageous\\n(T...   \n",
       "\n",
       "                                                tokens  song_sentiment  \n",
       "41   [bangbang, bang, bang, shot, bang, bang, hit, ...             -71  \n",
       "195  [bang, bang, baby, shot, rode, horses, sticks,...             -35  \n",
       "158  [outrageous, outrageous, outrageous, outrageou...             -33  "
      ]
     },
     "metadata": {},
     "output_type": "display_data"
    },
    {
     "name": "stdout",
     "output_type": "stream",
     "text": [
      "\"Bang-Bang\"\n",
      "\n",
      "\n",
      "\n",
      "Bang bang you shot me down\n",
      "Bang bang I hit the ground\n",
      "Bang bang that awful sound\n",
      "Bang bang my baby shot me down\n",
      "\n",
      "I was five and you were six\n",
      "We rode on horses made of sticks\n",
      "I wore black you wore white\n",
      "You would always win the fight\n",
      "\n",
      "B \n",
      "\n",
      "\"Bang Bang (My Baby Shot Me Down)\"\n",
      "\n",
      "\n",
      "\n",
      "I was five and he was six\n",
      "We rode on horses made of sticks\n",
      "He wore black and I wore white\n",
      "He would always win the fight\n",
      "\n",
      "Bang bang, he shot me down\n",
      "Bang bang, I hit the ground\n",
      "Bang bang, that awful sound\n",
      "Bang ban \n",
      "\n",
      "\"Outrageous\"\n",
      "\n",
      "\n",
      "\n",
      "Outrageous, outrageous\n",
      "(They say) I'm outrageous\n",
      "It's the rage\n",
      "\n",
      "I'm gonna wear what I will and spend some\n",
      "And I will be dress to kill don'tcha know\n",
      "And when the lights come up\n",
      "I'm ready I'm ready\n",
      "To put on a show with class\n",
      "And if I c \n",
      "\n"
     ]
    }
   ],
   "source": [
    "# Organize Cher df by sentiment score\n",
    "\n",
    "lowest_sents = cher_lyrics.sort_values(by=\"song_sentiment\", ascending=True)[0:3]\n",
    "highest_sents = cher_lyrics.sort_values(by=\"song_sentiment\", ascending=False)[0:3]\n",
    "\n",
    "# Display lyrics\n",
    "\n",
    "i = 0\n",
    "print(\"|=========== Cher's Highest Sentiment Songs: ==========|\\n\")\n",
    "display(highest_sents)\n",
    "while i < 3:\n",
    "    highest_lyrics = highest_sents[\"lyrics\"].tolist()\n",
    "    print(highest_lyrics[i][0:250], \"\\n\")   # capped at 250 characters\n",
    "    i += 1\n",
    "\n",
    "i = 0\n",
    "print(\"|=========== Cher's Lowest Sentiment Songs: ===========|\\n\")\n",
    "display(lowest_sents)\n",
    "while i < 3:\n",
    "    lowest_lyrics = lowest_sents[\"lyrics\"].tolist()\n",
    "    print(lowest_lyrics[i][0:250], \"\\n\")    # capped at 250 characters\n",
    "    i += 1\n"
   ]
  },
  {
   "cell_type": "markdown",
   "id": "48716b57",
   "metadata": {},
   "source": [
    "\n",
    "A: Cher's highest sentiment songs are: (1) \"I Found Love\", (2) \"Perfection\", and (3) \"My Love\". For these three songs I believe the frequent use of positive words like `love`, `perfection`, and `best` are driving the sentiment up. Cher's lowest sentiment songs are: (1) \"Bang Bang\", (2) \"Bang Bang (My Baby Shot Me Down)\", and (3) \"Outrageous\". It seems the first two songs are different version of the same thing. The constant use of the word `bang` is definitely responsible for the low sentiment in these two. The first version has two times lower sentiment than the second, it seems thats because the chorus is used more frequently there.\n",
    "\n",
    "---"
   ]
  },
  {
   "cell_type": "markdown",
   "id": "da047e2c",
   "metadata": {},
   "source": [
    "\n",
    "Q: For your second artist, what are the three songs that have the highest and lowest sentiments? Print the lyrics of those songs to the screen. What do you think is driving the sentiment score? "
   ]
  },
  {
   "cell_type": "code",
   "execution_count": 15,
   "id": "a181a4d1",
   "metadata": {},
   "outputs": [
    {
     "name": "stdout",
     "output_type": "stream",
     "text": [
      "|=========== Robyn's Highest Sentiment Songs: ==========|\n",
      "\n"
     ]
    },
    {
     "data": {
      "text/html": [
       "<div>\n",
       "<style scoped>\n",
       "    .dataframe tbody tr th:only-of-type {\n",
       "        vertical-align: middle;\n",
       "    }\n",
       "\n",
       "    .dataframe tbody tr th {\n",
       "        vertical-align: top;\n",
       "    }\n",
       "\n",
       "    .dataframe thead th {\n",
       "        text-align: right;\n",
       "    }\n",
       "</style>\n",
       "<table border=\"1\" class=\"dataframe\">\n",
       "  <thead>\n",
       "    <tr style=\"text-align: right;\">\n",
       "      <th></th>\n",
       "      <th>title</th>\n",
       "      <th>artist</th>\n",
       "      <th>lyrics</th>\n",
       "      <th>tokens</th>\n",
       "      <th>song_sentiment</th>\n",
       "    </tr>\n",
       "  </thead>\n",
       "  <tbody>\n",
       "    <tr>\n",
       "      <th>21</th>\n",
       "      <td>robyn_loveisfree.txt</td>\n",
       "      <td>robyn</td>\n",
       "      <td>\"Love Is Free\"\\n\\n\\n\\nFree\\nLove is free, baby...</td>\n",
       "      <td>[love, free, free, love, free, baby, free, lov...</td>\n",
       "      <td>121</td>\n",
       "    </tr>\n",
       "    <tr>\n",
       "      <th>50</th>\n",
       "      <td>robyn_wedancetothebeat114528.txt</td>\n",
       "      <td>robyn</td>\n",
       "      <td>\"We Dance To The Beat\"\\n\\n\\n\\nWe dance to the ...</td>\n",
       "      <td>[dance, beat, dance, beat, dance, beat, dance,...</td>\n",
       "      <td>67</td>\n",
       "    </tr>\n",
       "    <tr>\n",
       "      <th>98</th>\n",
       "      <td>robyn_wedancetothebeat.txt</td>\n",
       "      <td>robyn</td>\n",
       "      <td>\"We Dance To The Beat\"\\n\\n\\n\\nWe dance to the ...</td>\n",
       "      <td>[dance, beat, dance, beat, dance, beat, dance,...</td>\n",
       "      <td>67</td>\n",
       "    </tr>\n",
       "  </tbody>\n",
       "</table>\n",
       "</div>"
      ],
      "text/plain": [
       "                               title artist  \\\n",
       "21              robyn_loveisfree.txt  robyn   \n",
       "50  robyn_wedancetothebeat114528.txt  robyn   \n",
       "98        robyn_wedancetothebeat.txt  robyn   \n",
       "\n",
       "                                               lyrics  \\\n",
       "21  \"Love Is Free\"\\n\\n\\n\\nFree\\nLove is free, baby...   \n",
       "50  \"We Dance To The Beat\"\\n\\n\\n\\nWe dance to the ...   \n",
       "98  \"We Dance To The Beat\"\\n\\n\\n\\nWe dance to the ...   \n",
       "\n",
       "                                               tokens  song_sentiment  \n",
       "21  [love, free, free, love, free, baby, free, lov...             121  \n",
       "50  [dance, beat, dance, beat, dance, beat, dance,...              67  \n",
       "98  [dance, beat, dance, beat, dance, beat, dance,...              67  "
      ]
     },
     "metadata": {},
     "output_type": "display_data"
    },
    {
     "name": "stdout",
     "output_type": "stream",
     "text": [
      "\"Love Is Free\"\n",
      "\n",
      "\n",
      "\n",
      "Free\n",
      "Love is free, baby\n",
      "Free\n",
      "Love is free, baby\n",
      "Boom boom boom boom boom chica boom\n",
      "Let me give it to you, baby\n",
      "Chica boom chica boom chica boom\n",
      "Chica boom chica boom chica boom\n",
      "Free\n",
      "Love is free, baby\n",
      "Free\n",
      "Love is free, baby\n",
      "Boom b \n",
      "\n",
      "\"We Dance To The Beat\"\n",
      "\n",
      "\n",
      "\n",
      "We dance to the beat\n",
      "We dance to the beat\n",
      "We dance to the beat\n",
      "We dance to the beat\n",
      "We dance to the beat\n",
      "We dance to the beat\n",
      "We dance to the beat\n",
      "We dance to the beat\n",
      "We dance to the beat\n",
      "We dance to the beat\n",
      "We dance to th \n",
      "\n",
      "\"We Dance To The Beat\"\n",
      "\n",
      "\n",
      "\n",
      "We dance to the beat\n",
      "We dance to the beat\n",
      "We dance to the beat\n",
      "We dance to the beat\n",
      "We dance to the beat\n",
      "We dance to the beat\n",
      "We dance to the beat\n",
      "We dance to the beat\n",
      "We dance to the beat\n",
      "We dance to the beat\n",
      "We dance to th \n",
      "\n",
      "|=========== Robyn's Lowest Sentiment Songs: ===========|\n",
      "\n"
     ]
    },
    {
     "data": {
      "text/html": [
       "<div>\n",
       "<style scoped>\n",
       "    .dataframe tbody tr th:only-of-type {\n",
       "        vertical-align: middle;\n",
       "    }\n",
       "\n",
       "    .dataframe tbody tr th {\n",
       "        vertical-align: top;\n",
       "    }\n",
       "\n",
       "    .dataframe thead th {\n",
       "        text-align: right;\n",
       "    }\n",
       "</style>\n",
       "<table border=\"1\" class=\"dataframe\">\n",
       "  <thead>\n",
       "    <tr style=\"text-align: right;\">\n",
       "      <th></th>\n",
       "      <th>title</th>\n",
       "      <th>artist</th>\n",
       "      <th>lyrics</th>\n",
       "      <th>tokens</th>\n",
       "      <th>song_sentiment</th>\n",
       "    </tr>\n",
       "  </thead>\n",
       "  <tbody>\n",
       "    <tr>\n",
       "      <th>53</th>\n",
       "      <td>robyn_dontfuckingtellmewhattodo.txt</td>\n",
       "      <td>robyn</td>\n",
       "      <td>\"Don't Fucking Tell Me What To Do\"\\n\\n\\n\\nMy d...</td>\n",
       "      <td>[fucking, tell, drinking, killing, drinking, k...</td>\n",
       "      <td>-91</td>\n",
       "    </tr>\n",
       "    <tr>\n",
       "      <th>75</th>\n",
       "      <td>robyn_dontfuckingtellmewhattodo114520.txt</td>\n",
       "      <td>robyn</td>\n",
       "      <td>\"Don't Fucking Tell Me What To Do\"\\n\\n\\n\\nMy d...</td>\n",
       "      <td>[fucking, tell, drinking, killing, drinking, k...</td>\n",
       "      <td>-91</td>\n",
       "    </tr>\n",
       "    <tr>\n",
       "      <th>16</th>\n",
       "      <td>robyn_criminalintent.txt</td>\n",
       "      <td>robyn</td>\n",
       "      <td>\"Criminal Intent\"\\n\\n\\n\\nSomebody alert the au...</td>\n",
       "      <td>[criminal, intent, somebody, alert, authoritie...</td>\n",
       "      <td>-53</td>\n",
       "    </tr>\n",
       "  </tbody>\n",
       "</table>\n",
       "</div>"
      ],
      "text/plain": [
       "                                        title artist  \\\n",
       "53        robyn_dontfuckingtellmewhattodo.txt  robyn   \n",
       "75  robyn_dontfuckingtellmewhattodo114520.txt  robyn   \n",
       "16                   robyn_criminalintent.txt  robyn   \n",
       "\n",
       "                                               lyrics  \\\n",
       "53  \"Don't Fucking Tell Me What To Do\"\\n\\n\\n\\nMy d...   \n",
       "75  \"Don't Fucking Tell Me What To Do\"\\n\\n\\n\\nMy d...   \n",
       "16  \"Criminal Intent\"\\n\\n\\n\\nSomebody alert the au...   \n",
       "\n",
       "                                               tokens  song_sentiment  \n",
       "53  [fucking, tell, drinking, killing, drinking, k...             -91  \n",
       "75  [fucking, tell, drinking, killing, drinking, k...             -91  \n",
       "16  [criminal, intent, somebody, alert, authoritie...             -53  "
      ]
     },
     "metadata": {},
     "output_type": "display_data"
    },
    {
     "name": "stdout",
     "output_type": "stream",
     "text": [
      "\"Don't Fucking Tell Me What To Do\"\n",
      "\n",
      "\n",
      "\n",
      "My drinking is killing me\n",
      "My drinking is killing me\n",
      "My drinking is killing me\n",
      "My drinking is killing me\n",
      "My drinking is killing me\n",
      "My drinking is killing me\n",
      "My drinking is killing me\n",
      "My drinking is killing me\n",
      "My d \n",
      "\n",
      "\"Don't Fucking Tell Me What To Do\"\n",
      "\n",
      "\n",
      "\n",
      "My drinking is killing me\n",
      "My drinking is killing me\n",
      "My drinking is killing me\n",
      "My drinking is killing me\n",
      "My drinking is killing me\n",
      "My drinking is killing me\n",
      "My drinking is killing me\n",
      "My drinking is killing me\n",
      "My d \n",
      "\n",
      "\"Criminal Intent\"\n",
      "\n",
      "\n",
      "\n",
      "Somebody alert the authorities, I got criminal intent\n",
      "Conspiracy to engage in lewd and indecent acts and events\n",
      "I'mma wind it, grind it, oh my, I'mma say it again\n",
      "Somebody alert the authorities, she's got criminal intent\n",
      "\n",
      "Somebod \n",
      "\n"
     ]
    }
   ],
   "source": [
    "# Organize Robyn df by sentiment score\n",
    "\n",
    "lowest_sents = robyn_lyrics.sort_values(by=\"song_sentiment\", ascending=True)[0:3]\n",
    "highest_sents = robyn_lyrics.sort_values(by=\"song_sentiment\", ascending=False)[0:3]\n",
    "\n",
    "# Display lyrics\n",
    "\n",
    "i = 0\n",
    "print(\"|=========== Robyn's Highest Sentiment Songs: ==========|\\n\")\n",
    "display(highest_sents)\n",
    "while i < 3:\n",
    "    highest_lyrics = highest_sents[\"lyrics\"].tolist()\n",
    "    print(highest_lyrics[i][0:250], \"\\n\")   # capped at 250 characters\n",
    "    i += 1\n",
    "\n",
    "i = 0\n",
    "print(\"|=========== Robyn's Lowest Sentiment Songs: ===========|\\n\")\n",
    "display(lowest_sents)\n",
    "while i < 3:\n",
    "    lowest_lyrics = lowest_sents[\"lyrics\"].tolist()\n",
    "    print(lowest_lyrics[i][0:250], \"\\n\")    # capped at 250 characters\n",
    "    i += 1"
   ]
  },
  {
   "cell_type": "markdown",
   "id": "aa1b3d02",
   "metadata": {},
   "source": [
    "\n",
    "A: Both the highest and lowest sentiment songs for Robyn seem to contain duplicates or slightly different versions of the same song. Robyn's highest sentiment songs are: (1) \"Love is Free\", (2) \"We Dance to the Beat 114528\", and (3) \"We Dance to the Beat\". The word `love` is the theme of one song so that may be a reason for high sentiment. The word `dance` is used throughout the chorus of two songs which definitely increases sentiment. Robyn's lowest sentiment songs are: (1) \"Dont F!@$ing Tell Me What To Do\", (2) \"Dont F!@$ing Tell Me What To Do 114520\", and (3) \"Outrageous\". The swear words are definitely culprits in low sentiment. Aside from that, words like `killing` and `criminal` drive sentiment down.\n",
    "\n",
    "---"
   ]
  },
  {
   "cell_type": "markdown",
   "id": "1f8334f4",
   "metadata": {},
   "source": [
    "Q: Plot the distributions of the sentiment scores for both artists. You can use `seaborn` to plot densities or plot histograms in matplotlib."
   ]
  },
  {
   "cell_type": "code",
   "execution_count": 16,
   "id": "18555833",
   "metadata": {},
   "outputs": [
    {
     "data": {
      "application/vnd.plotly.v1+json": {
       "config": {
        "plotlyServerURL": "https://plot.ly"
       },
       "data": [
        {
         "alignmentgroup": "True",
         "bingroup": "x",
         "hovertemplate": "song_sentiment=%{x}<br>count=%{y}<extra></extra>",
         "legendgroup": "",
         "marker": {
          "color": "pink",
          "line": {
           "color": "purple",
           "width": 1.5
          },
          "pattern": {
           "shape": ""
          }
         },
         "name": "",
         "offsetgroup": "",
         "orientation": "v",
         "showlegend": false,
         "type": "histogram",
         "x": [
          -1,
          7,
          4,
          -8,
          12,
          6,
          19,
          -20,
          5,
          -1,
          9,
          22,
          6,
          -2,
          0,
          44,
          4,
          12,
          35,
          31,
          22,
          -9,
          1,
          6,
          14,
          12,
          -1,
          2,
          10,
          -11,
          4,
          -4,
          -1,
          1,
          3,
          7,
          13,
          6,
          -11,
          14,
          -1,
          -71,
          -7,
          14,
          5,
          -11,
          -4,
          13,
          8,
          4,
          -15,
          6,
          8,
          -5,
          0,
          11,
          -7,
          -1,
          -4,
          -2,
          -15,
          5,
          21,
          -3,
          -9,
          -2,
          6,
          15,
          13,
          15,
          0,
          -2,
          17,
          1,
          11,
          -7,
          13,
          -8,
          5,
          -1,
          6,
          24,
          14,
          16,
          -6,
          36,
          -7,
          8,
          -6,
          10,
          -1,
          4,
          8,
          -8,
          -10,
          10,
          3,
          7,
          -18,
          12,
          -9,
          -1,
          5,
          45,
          2,
          -2,
          -6,
          2,
          4,
          3,
          -6,
          -4,
          17,
          0,
          2,
          -11,
          12,
          -7,
          -9,
          -5,
          17,
          3,
          7,
          11,
          -6,
          -6,
          3,
          -10,
          6,
          1,
          3,
          29,
          3,
          6,
          21,
          3,
          6,
          29,
          8,
          -10,
          12,
          -14,
          2,
          3,
          -8,
          0,
          39,
          20,
          -3,
          7,
          0,
          -3,
          8,
          14,
          14,
          2,
          23,
          0,
          -33,
          4,
          1,
          23,
          -3,
          -5,
          14,
          -3,
          8,
          21,
          -5,
          -10,
          -14,
          -28,
          2,
          0,
          24,
          -17,
          -8,
          4,
          8,
          -25,
          0,
          2,
          1,
          -4,
          15,
          12,
          2,
          11,
          12,
          -8,
          9,
          23,
          3,
          11,
          -8,
          -35,
          9,
          5,
          5,
          1,
          11,
          39,
          -6,
          9,
          -3,
          5,
          3,
          0,
          20,
          -5,
          3,
          5,
          8,
          4,
          -1,
          15,
          4,
          2,
          14,
          1,
          -1,
          20,
          9,
          -14,
          3,
          -11,
          16,
          -1,
          -15,
          -5,
          14,
          -13,
          -4,
          29,
          46,
          -1,
          16,
          -2,
          0,
          -9,
          -16,
          11,
          7,
          4,
          -4,
          -9,
          22,
          -3,
          2,
          12,
          6,
          34,
          5,
          2,
          -1,
          8,
          8,
          -3,
          -3,
          20,
          -2,
          8,
          7,
          -19,
          4,
          15,
          -12,
          16,
          -6,
          5,
          -1,
          -8,
          -5,
          5,
          15,
          5,
          -12,
          -10,
          13,
          12,
          -6,
          13,
          4,
          13,
          8,
          9,
          0,
          8,
          -2,
          8,
          8,
          -2,
          14,
          5,
          6,
          -2,
          21,
          28,
          10,
          12,
          2,
          12,
          32,
          40,
          -1,
          4,
          6,
          -6,
          2,
          10,
          -3,
          -1,
          26,
          -3,
          9,
          3
         ],
         "xaxis": "x",
         "yaxis": "y"
        }
       ],
       "layout": {
        "barmode": "relative",
        "height": 400,
        "legend": {
         "tracegroupgap": 0
        },
        "margin": {
         "t": 60
        },
        "template": {
         "data": {
          "bar": [
           {
            "error_x": {
             "color": "#2a3f5f"
            },
            "error_y": {
             "color": "#2a3f5f"
            },
            "marker": {
             "line": {
              "color": "#E5ECF6",
              "width": 0.5
             },
             "pattern": {
              "fillmode": "overlay",
              "size": 10,
              "solidity": 0.2
             }
            },
            "type": "bar"
           }
          ],
          "barpolar": [
           {
            "marker": {
             "line": {
              "color": "#E5ECF6",
              "width": 0.5
             },
             "pattern": {
              "fillmode": "overlay",
              "size": 10,
              "solidity": 0.2
             }
            },
            "type": "barpolar"
           }
          ],
          "carpet": [
           {
            "aaxis": {
             "endlinecolor": "#2a3f5f",
             "gridcolor": "white",
             "linecolor": "white",
             "minorgridcolor": "white",
             "startlinecolor": "#2a3f5f"
            },
            "baxis": {
             "endlinecolor": "#2a3f5f",
             "gridcolor": "white",
             "linecolor": "white",
             "minorgridcolor": "white",
             "startlinecolor": "#2a3f5f"
            },
            "type": "carpet"
           }
          ],
          "choropleth": [
           {
            "colorbar": {
             "outlinewidth": 0,
             "ticks": ""
            },
            "type": "choropleth"
           }
          ],
          "contour": [
           {
            "colorbar": {
             "outlinewidth": 0,
             "ticks": ""
            },
            "colorscale": [
             [
              0,
              "#0d0887"
             ],
             [
              0.1111111111111111,
              "#46039f"
             ],
             [
              0.2222222222222222,
              "#7201a8"
             ],
             [
              0.3333333333333333,
              "#9c179e"
             ],
             [
              0.4444444444444444,
              "#bd3786"
             ],
             [
              0.5555555555555556,
              "#d8576b"
             ],
             [
              0.6666666666666666,
              "#ed7953"
             ],
             [
              0.7777777777777778,
              "#fb9f3a"
             ],
             [
              0.8888888888888888,
              "#fdca26"
             ],
             [
              1,
              "#f0f921"
             ]
            ],
            "type": "contour"
           }
          ],
          "contourcarpet": [
           {
            "colorbar": {
             "outlinewidth": 0,
             "ticks": ""
            },
            "type": "contourcarpet"
           }
          ],
          "heatmap": [
           {
            "colorbar": {
             "outlinewidth": 0,
             "ticks": ""
            },
            "colorscale": [
             [
              0,
              "#0d0887"
             ],
             [
              0.1111111111111111,
              "#46039f"
             ],
             [
              0.2222222222222222,
              "#7201a8"
             ],
             [
              0.3333333333333333,
              "#9c179e"
             ],
             [
              0.4444444444444444,
              "#bd3786"
             ],
             [
              0.5555555555555556,
              "#d8576b"
             ],
             [
              0.6666666666666666,
              "#ed7953"
             ],
             [
              0.7777777777777778,
              "#fb9f3a"
             ],
             [
              0.8888888888888888,
              "#fdca26"
             ],
             [
              1,
              "#f0f921"
             ]
            ],
            "type": "heatmap"
           }
          ],
          "heatmapgl": [
           {
            "colorbar": {
             "outlinewidth": 0,
             "ticks": ""
            },
            "colorscale": [
             [
              0,
              "#0d0887"
             ],
             [
              0.1111111111111111,
              "#46039f"
             ],
             [
              0.2222222222222222,
              "#7201a8"
             ],
             [
              0.3333333333333333,
              "#9c179e"
             ],
             [
              0.4444444444444444,
              "#bd3786"
             ],
             [
              0.5555555555555556,
              "#d8576b"
             ],
             [
              0.6666666666666666,
              "#ed7953"
             ],
             [
              0.7777777777777778,
              "#fb9f3a"
             ],
             [
              0.8888888888888888,
              "#fdca26"
             ],
             [
              1,
              "#f0f921"
             ]
            ],
            "type": "heatmapgl"
           }
          ],
          "histogram": [
           {
            "marker": {
             "pattern": {
              "fillmode": "overlay",
              "size": 10,
              "solidity": 0.2
             }
            },
            "type": "histogram"
           }
          ],
          "histogram2d": [
           {
            "colorbar": {
             "outlinewidth": 0,
             "ticks": ""
            },
            "colorscale": [
             [
              0,
              "#0d0887"
             ],
             [
              0.1111111111111111,
              "#46039f"
             ],
             [
              0.2222222222222222,
              "#7201a8"
             ],
             [
              0.3333333333333333,
              "#9c179e"
             ],
             [
              0.4444444444444444,
              "#bd3786"
             ],
             [
              0.5555555555555556,
              "#d8576b"
             ],
             [
              0.6666666666666666,
              "#ed7953"
             ],
             [
              0.7777777777777778,
              "#fb9f3a"
             ],
             [
              0.8888888888888888,
              "#fdca26"
             ],
             [
              1,
              "#f0f921"
             ]
            ],
            "type": "histogram2d"
           }
          ],
          "histogram2dcontour": [
           {
            "colorbar": {
             "outlinewidth": 0,
             "ticks": ""
            },
            "colorscale": [
             [
              0,
              "#0d0887"
             ],
             [
              0.1111111111111111,
              "#46039f"
             ],
             [
              0.2222222222222222,
              "#7201a8"
             ],
             [
              0.3333333333333333,
              "#9c179e"
             ],
             [
              0.4444444444444444,
              "#bd3786"
             ],
             [
              0.5555555555555556,
              "#d8576b"
             ],
             [
              0.6666666666666666,
              "#ed7953"
             ],
             [
              0.7777777777777778,
              "#fb9f3a"
             ],
             [
              0.8888888888888888,
              "#fdca26"
             ],
             [
              1,
              "#f0f921"
             ]
            ],
            "type": "histogram2dcontour"
           }
          ],
          "mesh3d": [
           {
            "colorbar": {
             "outlinewidth": 0,
             "ticks": ""
            },
            "type": "mesh3d"
           }
          ],
          "parcoords": [
           {
            "line": {
             "colorbar": {
              "outlinewidth": 0,
              "ticks": ""
             }
            },
            "type": "parcoords"
           }
          ],
          "pie": [
           {
            "automargin": true,
            "type": "pie"
           }
          ],
          "scatter": [
           {
            "fillpattern": {
             "fillmode": "overlay",
             "size": 10,
             "solidity": 0.2
            },
            "type": "scatter"
           }
          ],
          "scatter3d": [
           {
            "line": {
             "colorbar": {
              "outlinewidth": 0,
              "ticks": ""
             }
            },
            "marker": {
             "colorbar": {
              "outlinewidth": 0,
              "ticks": ""
             }
            },
            "type": "scatter3d"
           }
          ],
          "scattercarpet": [
           {
            "marker": {
             "colorbar": {
              "outlinewidth": 0,
              "ticks": ""
             }
            },
            "type": "scattercarpet"
           }
          ],
          "scattergeo": [
           {
            "marker": {
             "colorbar": {
              "outlinewidth": 0,
              "ticks": ""
             }
            },
            "type": "scattergeo"
           }
          ],
          "scattergl": [
           {
            "marker": {
             "colorbar": {
              "outlinewidth": 0,
              "ticks": ""
             }
            },
            "type": "scattergl"
           }
          ],
          "scattermapbox": [
           {
            "marker": {
             "colorbar": {
              "outlinewidth": 0,
              "ticks": ""
             }
            },
            "type": "scattermapbox"
           }
          ],
          "scatterpolar": [
           {
            "marker": {
             "colorbar": {
              "outlinewidth": 0,
              "ticks": ""
             }
            },
            "type": "scatterpolar"
           }
          ],
          "scatterpolargl": [
           {
            "marker": {
             "colorbar": {
              "outlinewidth": 0,
              "ticks": ""
             }
            },
            "type": "scatterpolargl"
           }
          ],
          "scatterternary": [
           {
            "marker": {
             "colorbar": {
              "outlinewidth": 0,
              "ticks": ""
             }
            },
            "type": "scatterternary"
           }
          ],
          "surface": [
           {
            "colorbar": {
             "outlinewidth": 0,
             "ticks": ""
            },
            "colorscale": [
             [
              0,
              "#0d0887"
             ],
             [
              0.1111111111111111,
              "#46039f"
             ],
             [
              0.2222222222222222,
              "#7201a8"
             ],
             [
              0.3333333333333333,
              "#9c179e"
             ],
             [
              0.4444444444444444,
              "#bd3786"
             ],
             [
              0.5555555555555556,
              "#d8576b"
             ],
             [
              0.6666666666666666,
              "#ed7953"
             ],
             [
              0.7777777777777778,
              "#fb9f3a"
             ],
             [
              0.8888888888888888,
              "#fdca26"
             ],
             [
              1,
              "#f0f921"
             ]
            ],
            "type": "surface"
           }
          ],
          "table": [
           {
            "cells": {
             "fill": {
              "color": "#EBF0F8"
             },
             "line": {
              "color": "white"
             }
            },
            "header": {
             "fill": {
              "color": "#C8D4E3"
             },
             "line": {
              "color": "white"
             }
            },
            "type": "table"
           }
          ]
         },
         "layout": {
          "annotationdefaults": {
           "arrowcolor": "#2a3f5f",
           "arrowhead": 0,
           "arrowwidth": 1
          },
          "autotypenumbers": "strict",
          "coloraxis": {
           "colorbar": {
            "outlinewidth": 0,
            "ticks": ""
           }
          },
          "colorscale": {
           "diverging": [
            [
             0,
             "#8e0152"
            ],
            [
             0.1,
             "#c51b7d"
            ],
            [
             0.2,
             "#de77ae"
            ],
            [
             0.3,
             "#f1b6da"
            ],
            [
             0.4,
             "#fde0ef"
            ],
            [
             0.5,
             "#f7f7f7"
            ],
            [
             0.6,
             "#e6f5d0"
            ],
            [
             0.7,
             "#b8e186"
            ],
            [
             0.8,
             "#7fbc41"
            ],
            [
             0.9,
             "#4d9221"
            ],
            [
             1,
             "#276419"
            ]
           ],
           "sequential": [
            [
             0,
             "#0d0887"
            ],
            [
             0.1111111111111111,
             "#46039f"
            ],
            [
             0.2222222222222222,
             "#7201a8"
            ],
            [
             0.3333333333333333,
             "#9c179e"
            ],
            [
             0.4444444444444444,
             "#bd3786"
            ],
            [
             0.5555555555555556,
             "#d8576b"
            ],
            [
             0.6666666666666666,
             "#ed7953"
            ],
            [
             0.7777777777777778,
             "#fb9f3a"
            ],
            [
             0.8888888888888888,
             "#fdca26"
            ],
            [
             1,
             "#f0f921"
            ]
           ],
           "sequentialminus": [
            [
             0,
             "#0d0887"
            ],
            [
             0.1111111111111111,
             "#46039f"
            ],
            [
             0.2222222222222222,
             "#7201a8"
            ],
            [
             0.3333333333333333,
             "#9c179e"
            ],
            [
             0.4444444444444444,
             "#bd3786"
            ],
            [
             0.5555555555555556,
             "#d8576b"
            ],
            [
             0.6666666666666666,
             "#ed7953"
            ],
            [
             0.7777777777777778,
             "#fb9f3a"
            ],
            [
             0.8888888888888888,
             "#fdca26"
            ],
            [
             1,
             "#f0f921"
            ]
           ]
          },
          "colorway": [
           "#636efa",
           "#EF553B",
           "#00cc96",
           "#ab63fa",
           "#FFA15A",
           "#19d3f3",
           "#FF6692",
           "#B6E880",
           "#FF97FF",
           "#FECB52"
          ],
          "font": {
           "color": "#2a3f5f"
          },
          "geo": {
           "bgcolor": "white",
           "lakecolor": "white",
           "landcolor": "#E5ECF6",
           "showlakes": true,
           "showland": true,
           "subunitcolor": "white"
          },
          "hoverlabel": {
           "align": "left"
          },
          "hovermode": "closest",
          "mapbox": {
           "style": "light"
          },
          "paper_bgcolor": "white",
          "plot_bgcolor": "#E5ECF6",
          "polar": {
           "angularaxis": {
            "gridcolor": "white",
            "linecolor": "white",
            "ticks": ""
           },
           "bgcolor": "#E5ECF6",
           "radialaxis": {
            "gridcolor": "white",
            "linecolor": "white",
            "ticks": ""
           }
          },
          "scene": {
           "xaxis": {
            "backgroundcolor": "#E5ECF6",
            "gridcolor": "white",
            "gridwidth": 2,
            "linecolor": "white",
            "showbackground": true,
            "ticks": "",
            "zerolinecolor": "white"
           },
           "yaxis": {
            "backgroundcolor": "#E5ECF6",
            "gridcolor": "white",
            "gridwidth": 2,
            "linecolor": "white",
            "showbackground": true,
            "ticks": "",
            "zerolinecolor": "white"
           },
           "zaxis": {
            "backgroundcolor": "#E5ECF6",
            "gridcolor": "white",
            "gridwidth": 2,
            "linecolor": "white",
            "showbackground": true,
            "ticks": "",
            "zerolinecolor": "white"
           }
          },
          "shapedefaults": {
           "line": {
            "color": "#2a3f5f"
           }
          },
          "ternary": {
           "aaxis": {
            "gridcolor": "white",
            "linecolor": "white",
            "ticks": ""
           },
           "baxis": {
            "gridcolor": "white",
            "linecolor": "white",
            "ticks": ""
           },
           "bgcolor": "#E5ECF6",
           "caxis": {
            "gridcolor": "white",
            "linecolor": "white",
            "ticks": ""
           }
          },
          "title": {
           "x": 0.05
          },
          "xaxis": {
           "automargin": true,
           "gridcolor": "white",
           "linecolor": "white",
           "ticks": "",
           "title": {
            "standoff": 15
           },
           "zerolinecolor": "white",
           "zerolinewidth": 2
          },
          "yaxis": {
           "automargin": true,
           "gridcolor": "white",
           "linecolor": "white",
           "ticks": "",
           "title": {
            "standoff": 15
           },
           "zerolinecolor": "white",
           "zerolinewidth": 2
          }
         }
        },
        "title": {
         "text": "Cher Song Sentiment Distributions"
        },
        "width": 800,
        "xaxis": {
         "anchor": "y",
         "domain": [
          0,
          1
         ],
         "title": {
          "text": "song_sentiment"
         }
        },
        "yaxis": {
         "anchor": "x",
         "domain": [
          0,
          1
         ],
         "title": {
          "text": "count"
         }
        }
       }
      }
     },
     "metadata": {},
     "output_type": "display_data"
    },
    {
     "data": {
      "application/vnd.plotly.v1+json": {
       "config": {
        "plotlyServerURL": "https://plot.ly"
       },
       "data": [
        {
         "alignmentgroup": "True",
         "bingroup": "x",
         "hovertemplate": "song_sentiment=%{x}<br>count=%{y}<extra></extra>",
         "legendgroup": "",
         "marker": {
          "color": "turquoise",
          "line": {
           "color": "green",
           "width": 1.5
          },
          "pattern": {
           "shape": ""
          }
         },
         "name": "",
         "offsetgroup": "",
         "orientation": "v",
         "showlegend": false,
         "type": "histogram",
         "x": [
          4,
          20,
          26,
          -24,
          -11,
          -24,
          18,
          10,
          10,
          1,
          10,
          -1,
          8,
          -1,
          15,
          26,
          -53,
          6,
          2,
          -1,
          13,
          121,
          3,
          17,
          -8,
          -1,
          6,
          -11,
          9,
          2,
          2,
          13,
          4,
          17,
          2,
          13,
          14,
          2,
          9,
          10,
          14,
          16,
          7,
          13,
          28,
          26,
          -12,
          12,
          12,
          37,
          67,
          9,
          5,
          -91,
          2,
          -10,
          -14,
          10,
          7,
          -14,
          2,
          10,
          -3,
          -5,
          40,
          20,
          10,
          13,
          20,
          4,
          -14,
          14,
          -12,
          19,
          19,
          -91,
          -8,
          7,
          2,
          31,
          4,
          -1,
          -5,
          18,
          -9,
          1,
          -3,
          6,
          7,
          13,
          2,
          -1,
          5,
          -7,
          45,
          -24,
          7,
          -5,
          67,
          17,
          16,
          -17,
          4,
          5
         ],
         "xaxis": "x",
         "yaxis": "y"
        }
       ],
       "layout": {
        "barmode": "relative",
        "height": 400,
        "legend": {
         "tracegroupgap": 0
        },
        "margin": {
         "t": 60
        },
        "template": {
         "data": {
          "bar": [
           {
            "error_x": {
             "color": "#2a3f5f"
            },
            "error_y": {
             "color": "#2a3f5f"
            },
            "marker": {
             "line": {
              "color": "#E5ECF6",
              "width": 0.5
             },
             "pattern": {
              "fillmode": "overlay",
              "size": 10,
              "solidity": 0.2
             }
            },
            "type": "bar"
           }
          ],
          "barpolar": [
           {
            "marker": {
             "line": {
              "color": "#E5ECF6",
              "width": 0.5
             },
             "pattern": {
              "fillmode": "overlay",
              "size": 10,
              "solidity": 0.2
             }
            },
            "type": "barpolar"
           }
          ],
          "carpet": [
           {
            "aaxis": {
             "endlinecolor": "#2a3f5f",
             "gridcolor": "white",
             "linecolor": "white",
             "minorgridcolor": "white",
             "startlinecolor": "#2a3f5f"
            },
            "baxis": {
             "endlinecolor": "#2a3f5f",
             "gridcolor": "white",
             "linecolor": "white",
             "minorgridcolor": "white",
             "startlinecolor": "#2a3f5f"
            },
            "type": "carpet"
           }
          ],
          "choropleth": [
           {
            "colorbar": {
             "outlinewidth": 0,
             "ticks": ""
            },
            "type": "choropleth"
           }
          ],
          "contour": [
           {
            "colorbar": {
             "outlinewidth": 0,
             "ticks": ""
            },
            "colorscale": [
             [
              0,
              "#0d0887"
             ],
             [
              0.1111111111111111,
              "#46039f"
             ],
             [
              0.2222222222222222,
              "#7201a8"
             ],
             [
              0.3333333333333333,
              "#9c179e"
             ],
             [
              0.4444444444444444,
              "#bd3786"
             ],
             [
              0.5555555555555556,
              "#d8576b"
             ],
             [
              0.6666666666666666,
              "#ed7953"
             ],
             [
              0.7777777777777778,
              "#fb9f3a"
             ],
             [
              0.8888888888888888,
              "#fdca26"
             ],
             [
              1,
              "#f0f921"
             ]
            ],
            "type": "contour"
           }
          ],
          "contourcarpet": [
           {
            "colorbar": {
             "outlinewidth": 0,
             "ticks": ""
            },
            "type": "contourcarpet"
           }
          ],
          "heatmap": [
           {
            "colorbar": {
             "outlinewidth": 0,
             "ticks": ""
            },
            "colorscale": [
             [
              0,
              "#0d0887"
             ],
             [
              0.1111111111111111,
              "#46039f"
             ],
             [
              0.2222222222222222,
              "#7201a8"
             ],
             [
              0.3333333333333333,
              "#9c179e"
             ],
             [
              0.4444444444444444,
              "#bd3786"
             ],
             [
              0.5555555555555556,
              "#d8576b"
             ],
             [
              0.6666666666666666,
              "#ed7953"
             ],
             [
              0.7777777777777778,
              "#fb9f3a"
             ],
             [
              0.8888888888888888,
              "#fdca26"
             ],
             [
              1,
              "#f0f921"
             ]
            ],
            "type": "heatmap"
           }
          ],
          "heatmapgl": [
           {
            "colorbar": {
             "outlinewidth": 0,
             "ticks": ""
            },
            "colorscale": [
             [
              0,
              "#0d0887"
             ],
             [
              0.1111111111111111,
              "#46039f"
             ],
             [
              0.2222222222222222,
              "#7201a8"
             ],
             [
              0.3333333333333333,
              "#9c179e"
             ],
             [
              0.4444444444444444,
              "#bd3786"
             ],
             [
              0.5555555555555556,
              "#d8576b"
             ],
             [
              0.6666666666666666,
              "#ed7953"
             ],
             [
              0.7777777777777778,
              "#fb9f3a"
             ],
             [
              0.8888888888888888,
              "#fdca26"
             ],
             [
              1,
              "#f0f921"
             ]
            ],
            "type": "heatmapgl"
           }
          ],
          "histogram": [
           {
            "marker": {
             "pattern": {
              "fillmode": "overlay",
              "size": 10,
              "solidity": 0.2
             }
            },
            "type": "histogram"
           }
          ],
          "histogram2d": [
           {
            "colorbar": {
             "outlinewidth": 0,
             "ticks": ""
            },
            "colorscale": [
             [
              0,
              "#0d0887"
             ],
             [
              0.1111111111111111,
              "#46039f"
             ],
             [
              0.2222222222222222,
              "#7201a8"
             ],
             [
              0.3333333333333333,
              "#9c179e"
             ],
             [
              0.4444444444444444,
              "#bd3786"
             ],
             [
              0.5555555555555556,
              "#d8576b"
             ],
             [
              0.6666666666666666,
              "#ed7953"
             ],
             [
              0.7777777777777778,
              "#fb9f3a"
             ],
             [
              0.8888888888888888,
              "#fdca26"
             ],
             [
              1,
              "#f0f921"
             ]
            ],
            "type": "histogram2d"
           }
          ],
          "histogram2dcontour": [
           {
            "colorbar": {
             "outlinewidth": 0,
             "ticks": ""
            },
            "colorscale": [
             [
              0,
              "#0d0887"
             ],
             [
              0.1111111111111111,
              "#46039f"
             ],
             [
              0.2222222222222222,
              "#7201a8"
             ],
             [
              0.3333333333333333,
              "#9c179e"
             ],
             [
              0.4444444444444444,
              "#bd3786"
             ],
             [
              0.5555555555555556,
              "#d8576b"
             ],
             [
              0.6666666666666666,
              "#ed7953"
             ],
             [
              0.7777777777777778,
              "#fb9f3a"
             ],
             [
              0.8888888888888888,
              "#fdca26"
             ],
             [
              1,
              "#f0f921"
             ]
            ],
            "type": "histogram2dcontour"
           }
          ],
          "mesh3d": [
           {
            "colorbar": {
             "outlinewidth": 0,
             "ticks": ""
            },
            "type": "mesh3d"
           }
          ],
          "parcoords": [
           {
            "line": {
             "colorbar": {
              "outlinewidth": 0,
              "ticks": ""
             }
            },
            "type": "parcoords"
           }
          ],
          "pie": [
           {
            "automargin": true,
            "type": "pie"
           }
          ],
          "scatter": [
           {
            "fillpattern": {
             "fillmode": "overlay",
             "size": 10,
             "solidity": 0.2
            },
            "type": "scatter"
           }
          ],
          "scatter3d": [
           {
            "line": {
             "colorbar": {
              "outlinewidth": 0,
              "ticks": ""
             }
            },
            "marker": {
             "colorbar": {
              "outlinewidth": 0,
              "ticks": ""
             }
            },
            "type": "scatter3d"
           }
          ],
          "scattercarpet": [
           {
            "marker": {
             "colorbar": {
              "outlinewidth": 0,
              "ticks": ""
             }
            },
            "type": "scattercarpet"
           }
          ],
          "scattergeo": [
           {
            "marker": {
             "colorbar": {
              "outlinewidth": 0,
              "ticks": ""
             }
            },
            "type": "scattergeo"
           }
          ],
          "scattergl": [
           {
            "marker": {
             "colorbar": {
              "outlinewidth": 0,
              "ticks": ""
             }
            },
            "type": "scattergl"
           }
          ],
          "scattermapbox": [
           {
            "marker": {
             "colorbar": {
              "outlinewidth": 0,
              "ticks": ""
             }
            },
            "type": "scattermapbox"
           }
          ],
          "scatterpolar": [
           {
            "marker": {
             "colorbar": {
              "outlinewidth": 0,
              "ticks": ""
             }
            },
            "type": "scatterpolar"
           }
          ],
          "scatterpolargl": [
           {
            "marker": {
             "colorbar": {
              "outlinewidth": 0,
              "ticks": ""
             }
            },
            "type": "scatterpolargl"
           }
          ],
          "scatterternary": [
           {
            "marker": {
             "colorbar": {
              "outlinewidth": 0,
              "ticks": ""
             }
            },
            "type": "scatterternary"
           }
          ],
          "surface": [
           {
            "colorbar": {
             "outlinewidth": 0,
             "ticks": ""
            },
            "colorscale": [
             [
              0,
              "#0d0887"
             ],
             [
              0.1111111111111111,
              "#46039f"
             ],
             [
              0.2222222222222222,
              "#7201a8"
             ],
             [
              0.3333333333333333,
              "#9c179e"
             ],
             [
              0.4444444444444444,
              "#bd3786"
             ],
             [
              0.5555555555555556,
              "#d8576b"
             ],
             [
              0.6666666666666666,
              "#ed7953"
             ],
             [
              0.7777777777777778,
              "#fb9f3a"
             ],
             [
              0.8888888888888888,
              "#fdca26"
             ],
             [
              1,
              "#f0f921"
             ]
            ],
            "type": "surface"
           }
          ],
          "table": [
           {
            "cells": {
             "fill": {
              "color": "#EBF0F8"
             },
             "line": {
              "color": "white"
             }
            },
            "header": {
             "fill": {
              "color": "#C8D4E3"
             },
             "line": {
              "color": "white"
             }
            },
            "type": "table"
           }
          ]
         },
         "layout": {
          "annotationdefaults": {
           "arrowcolor": "#2a3f5f",
           "arrowhead": 0,
           "arrowwidth": 1
          },
          "autotypenumbers": "strict",
          "coloraxis": {
           "colorbar": {
            "outlinewidth": 0,
            "ticks": ""
           }
          },
          "colorscale": {
           "diverging": [
            [
             0,
             "#8e0152"
            ],
            [
             0.1,
             "#c51b7d"
            ],
            [
             0.2,
             "#de77ae"
            ],
            [
             0.3,
             "#f1b6da"
            ],
            [
             0.4,
             "#fde0ef"
            ],
            [
             0.5,
             "#f7f7f7"
            ],
            [
             0.6,
             "#e6f5d0"
            ],
            [
             0.7,
             "#b8e186"
            ],
            [
             0.8,
             "#7fbc41"
            ],
            [
             0.9,
             "#4d9221"
            ],
            [
             1,
             "#276419"
            ]
           ],
           "sequential": [
            [
             0,
             "#0d0887"
            ],
            [
             0.1111111111111111,
             "#46039f"
            ],
            [
             0.2222222222222222,
             "#7201a8"
            ],
            [
             0.3333333333333333,
             "#9c179e"
            ],
            [
             0.4444444444444444,
             "#bd3786"
            ],
            [
             0.5555555555555556,
             "#d8576b"
            ],
            [
             0.6666666666666666,
             "#ed7953"
            ],
            [
             0.7777777777777778,
             "#fb9f3a"
            ],
            [
             0.8888888888888888,
             "#fdca26"
            ],
            [
             1,
             "#f0f921"
            ]
           ],
           "sequentialminus": [
            [
             0,
             "#0d0887"
            ],
            [
             0.1111111111111111,
             "#46039f"
            ],
            [
             0.2222222222222222,
             "#7201a8"
            ],
            [
             0.3333333333333333,
             "#9c179e"
            ],
            [
             0.4444444444444444,
             "#bd3786"
            ],
            [
             0.5555555555555556,
             "#d8576b"
            ],
            [
             0.6666666666666666,
             "#ed7953"
            ],
            [
             0.7777777777777778,
             "#fb9f3a"
            ],
            [
             0.8888888888888888,
             "#fdca26"
            ],
            [
             1,
             "#f0f921"
            ]
           ]
          },
          "colorway": [
           "#636efa",
           "#EF553B",
           "#00cc96",
           "#ab63fa",
           "#FFA15A",
           "#19d3f3",
           "#FF6692",
           "#B6E880",
           "#FF97FF",
           "#FECB52"
          ],
          "font": {
           "color": "#2a3f5f"
          },
          "geo": {
           "bgcolor": "white",
           "lakecolor": "white",
           "landcolor": "#E5ECF6",
           "showlakes": true,
           "showland": true,
           "subunitcolor": "white"
          },
          "hoverlabel": {
           "align": "left"
          },
          "hovermode": "closest",
          "mapbox": {
           "style": "light"
          },
          "paper_bgcolor": "white",
          "plot_bgcolor": "#E5ECF6",
          "polar": {
           "angularaxis": {
            "gridcolor": "white",
            "linecolor": "white",
            "ticks": ""
           },
           "bgcolor": "#E5ECF6",
           "radialaxis": {
            "gridcolor": "white",
            "linecolor": "white",
            "ticks": ""
           }
          },
          "scene": {
           "xaxis": {
            "backgroundcolor": "#E5ECF6",
            "gridcolor": "white",
            "gridwidth": 2,
            "linecolor": "white",
            "showbackground": true,
            "ticks": "",
            "zerolinecolor": "white"
           },
           "yaxis": {
            "backgroundcolor": "#E5ECF6",
            "gridcolor": "white",
            "gridwidth": 2,
            "linecolor": "white",
            "showbackground": true,
            "ticks": "",
            "zerolinecolor": "white"
           },
           "zaxis": {
            "backgroundcolor": "#E5ECF6",
            "gridcolor": "white",
            "gridwidth": 2,
            "linecolor": "white",
            "showbackground": true,
            "ticks": "",
            "zerolinecolor": "white"
           }
          },
          "shapedefaults": {
           "line": {
            "color": "#2a3f5f"
           }
          },
          "ternary": {
           "aaxis": {
            "gridcolor": "white",
            "linecolor": "white",
            "ticks": ""
           },
           "baxis": {
            "gridcolor": "white",
            "linecolor": "white",
            "ticks": ""
           },
           "bgcolor": "#E5ECF6",
           "caxis": {
            "gridcolor": "white",
            "linecolor": "white",
            "ticks": ""
           }
          },
          "title": {
           "x": 0.05
          },
          "xaxis": {
           "automargin": true,
           "gridcolor": "white",
           "linecolor": "white",
           "ticks": "",
           "title": {
            "standoff": 15
           },
           "zerolinecolor": "white",
           "zerolinewidth": 2
          },
          "yaxis": {
           "automargin": true,
           "gridcolor": "white",
           "linecolor": "white",
           "ticks": "",
           "title": {
            "standoff": 15
           },
           "zerolinecolor": "white",
           "zerolinewidth": 2
          }
         }
        },
        "title": {
         "text": "Robyn Song Sentiment Distributions"
        },
        "width": 800,
        "xaxis": {
         "anchor": "y",
         "domain": [
          0,
          1
         ],
         "title": {
          "text": "song_sentiment"
         }
        },
        "yaxis": {
         "anchor": "x",
         "domain": [
          0,
          1
         ],
         "title": {
          "text": "count"
         }
        }
       }
      }
     },
     "metadata": {},
     "output_type": "display_data"
    }
   ],
   "source": [
    "# Create sentiment plots\n",
    "\n",
    "# Seaborn plot\n",
    "\n",
    "color = sns.color_palette()\n",
    "\n",
    "fig = px.histogram(cher_lyrics, x=\"song_sentiment\",  width=800, height=400)\n",
    "fig.update_traces(marker_color=\"pink\",marker_line_color='purple',\n",
    "                  marker_line_width=1.5)\n",
    "fig.update_layout(title_text='Cher Song Sentiment Distributions')\n",
    "fig.show()\n",
    "\n",
    "fig2 = px.histogram(robyn_lyrics, x=\"song_sentiment\",  width=800, height=400)\n",
    "fig2.update_traces(marker_color=\"turquoise\",marker_line_color='green',\n",
    "                  marker_line_width=1.5)\n",
    "fig2.update_layout(title_text='Robyn Song Sentiment Distributions')\n",
    "fig2.show()"
   ]
  },
  {
   "cell_type": "markdown",
   "id": "47740a6f",
   "metadata": {},
   "source": [
    "The songs tend to sway a little towards the positive side when it comes to sentiment, but generally stay neutral on average."
   ]
  },
  {
   "cell_type": "markdown",
   "id": "b3fe644d",
   "metadata": {},
   "source": [
    "## Sentiment Analysis on Twitter Descriptions\n",
    "\n",
    "In this section, define two sets of emojis you designate as positive and negative. Make sure to have at least 10 emojis per set. You can learn about the most popular emojis on Twitter at [the emojitracker](https://emojitracker.com/). \n",
    "\n",
    "Associate your positive emojis with a score of +1, negative with -1. Score the average sentiment of your two artists based on the Twitter descriptions of their followers. The average sentiment can just be the total score divided by number of followers. You do not need to calculate sentiment on non-emoji content for this section."
   ]
  },
  {
   "cell_type": "code",
   "execution_count": 17,
   "id": "1a5c1d25",
   "metadata": {},
   "outputs": [
    {
     "data": {
      "text/html": [
       "<div>\n",
       "<style scoped>\n",
       "    .dataframe tbody tr th:only-of-type {\n",
       "        vertical-align: middle;\n",
       "    }\n",
       "\n",
       "    .dataframe tbody tr th {\n",
       "        vertical-align: top;\n",
       "    }\n",
       "\n",
       "    .dataframe thead th {\n",
       "        text-align: right;\n",
       "    }\n",
       "</style>\n",
       "<table border=\"1\" class=\"dataframe\">\n",
       "  <thead>\n",
       "    <tr style=\"text-align: right;\">\n",
       "      <th></th>\n",
       "      <th>index</th>\n",
       "      <th>word</th>\n",
       "      <th>sentiment</th>\n",
       "      <th>lexicon</th>\n",
       "      <th>score</th>\n",
       "    </tr>\n",
       "  </thead>\n",
       "  <tbody>\n",
       "    <tr>\n",
       "      <th>0</th>\n",
       "      <td>0</td>\n",
       "      <td>💙</td>\n",
       "      <td>positive</td>\n",
       "      <td>EMJ</td>\n",
       "      <td>1</td>\n",
       "    </tr>\n",
       "    <tr>\n",
       "      <th>1</th>\n",
       "      <td>1</td>\n",
       "      <td>🌞</td>\n",
       "      <td>positive</td>\n",
       "      <td>EMJ</td>\n",
       "      <td>1</td>\n",
       "    </tr>\n",
       "    <tr>\n",
       "      <th>2</th>\n",
       "      <td>2</td>\n",
       "      <td>♥</td>\n",
       "      <td>positive</td>\n",
       "      <td>EMJ</td>\n",
       "      <td>1</td>\n",
       "    </tr>\n",
       "    <tr>\n",
       "      <th>3</th>\n",
       "      <td>3</td>\n",
       "      <td>🌈</td>\n",
       "      <td>positive</td>\n",
       "      <td>EMJ</td>\n",
       "      <td>1</td>\n",
       "    </tr>\n",
       "    <tr>\n",
       "      <th>4</th>\n",
       "      <td>4</td>\n",
       "      <td>❤️</td>\n",
       "      <td>positive</td>\n",
       "      <td>EMJ</td>\n",
       "      <td>1</td>\n",
       "    </tr>\n",
       "    <tr>\n",
       "      <th>5</th>\n",
       "      <td>5</td>\n",
       "      <td>💜</td>\n",
       "      <td>positive</td>\n",
       "      <td>EMJ</td>\n",
       "      <td>1</td>\n",
       "    </tr>\n",
       "    <tr>\n",
       "      <th>6</th>\n",
       "      <td>6</td>\n",
       "      <td>✨</td>\n",
       "      <td>positive</td>\n",
       "      <td>EMJ</td>\n",
       "      <td>1</td>\n",
       "    </tr>\n",
       "    <tr>\n",
       "      <th>7</th>\n",
       "      <td>7</td>\n",
       "      <td>😊</td>\n",
       "      <td>positive</td>\n",
       "      <td>EMJ</td>\n",
       "      <td>1</td>\n",
       "    </tr>\n",
       "    <tr>\n",
       "      <th>8</th>\n",
       "      <td>8</td>\n",
       "      <td>🙌</td>\n",
       "      <td>positive</td>\n",
       "      <td>EMJ</td>\n",
       "      <td>1</td>\n",
       "    </tr>\n",
       "    <tr>\n",
       "      <th>9</th>\n",
       "      <td>9</td>\n",
       "      <td>🤗</td>\n",
       "      <td>positive</td>\n",
       "      <td>EMJ</td>\n",
       "      <td>1</td>\n",
       "    </tr>\n",
       "    <tr>\n",
       "      <th>10</th>\n",
       "      <td>0</td>\n",
       "      <td>🥺</td>\n",
       "      <td>negative</td>\n",
       "      <td>EMJ</td>\n",
       "      <td>-1</td>\n",
       "    </tr>\n",
       "    <tr>\n",
       "      <th>11</th>\n",
       "      <td>1</td>\n",
       "      <td>😞</td>\n",
       "      <td>negative</td>\n",
       "      <td>EMJ</td>\n",
       "      <td>-1</td>\n",
       "    </tr>\n",
       "    <tr>\n",
       "      <th>12</th>\n",
       "      <td>2</td>\n",
       "      <td>😠</td>\n",
       "      <td>negative</td>\n",
       "      <td>EMJ</td>\n",
       "      <td>-1</td>\n",
       "    </tr>\n",
       "    <tr>\n",
       "      <th>13</th>\n",
       "      <td>3</td>\n",
       "      <td>💢</td>\n",
       "      <td>negative</td>\n",
       "      <td>EMJ</td>\n",
       "      <td>-1</td>\n",
       "    </tr>\n",
       "    <tr>\n",
       "      <th>14</th>\n",
       "      <td>4</td>\n",
       "      <td>😤</td>\n",
       "      <td>negative</td>\n",
       "      <td>EMJ</td>\n",
       "      <td>-1</td>\n",
       "    </tr>\n",
       "    <tr>\n",
       "      <th>15</th>\n",
       "      <td>5</td>\n",
       "      <td>😭</td>\n",
       "      <td>negative</td>\n",
       "      <td>EMJ</td>\n",
       "      <td>-1</td>\n",
       "    </tr>\n",
       "    <tr>\n",
       "      <th>16</th>\n",
       "      <td>6</td>\n",
       "      <td>😢</td>\n",
       "      <td>negative</td>\n",
       "      <td>EMJ</td>\n",
       "      <td>-1</td>\n",
       "    </tr>\n",
       "    <tr>\n",
       "      <th>17</th>\n",
       "      <td>7</td>\n",
       "      <td>🖕</td>\n",
       "      <td>negative</td>\n",
       "      <td>EMJ</td>\n",
       "      <td>-1</td>\n",
       "    </tr>\n",
       "    <tr>\n",
       "      <th>18</th>\n",
       "      <td>8</td>\n",
       "      <td>😒</td>\n",
       "      <td>negative</td>\n",
       "      <td>EMJ</td>\n",
       "      <td>-1</td>\n",
       "    </tr>\n",
       "    <tr>\n",
       "      <th>19</th>\n",
       "      <td>9</td>\n",
       "      <td>🌧️</td>\n",
       "      <td>negative</td>\n",
       "      <td>EMJ</td>\n",
       "      <td>-1</td>\n",
       "    </tr>\n",
       "  </tbody>\n",
       "</table>\n",
       "</div>"
      ],
      "text/plain": [
       "    index word sentiment lexicon  score\n",
       "0       0    💙  positive     EMJ      1\n",
       "1       1    🌞  positive     EMJ      1\n",
       "2       2    ♥  positive     EMJ      1\n",
       "3       3    🌈  positive     EMJ      1\n",
       "4       4   ❤️  positive     EMJ      1\n",
       "5       5    💜  positive     EMJ      1\n",
       "6       6    ✨  positive     EMJ      1\n",
       "7       7    😊  positive     EMJ      1\n",
       "8       8    🙌  positive     EMJ      1\n",
       "9       9    🤗  positive     EMJ      1\n",
       "10      0    🥺  negative     EMJ     -1\n",
       "11      1    😞  negative     EMJ     -1\n",
       "12      2    😠  negative     EMJ     -1\n",
       "13      3    💢  negative     EMJ     -1\n",
       "14      4    😤  negative     EMJ     -1\n",
       "15      5    😭  negative     EMJ     -1\n",
       "16      6    😢  negative     EMJ     -1\n",
       "17      7    🖕  negative     EMJ     -1\n",
       "18      8    😒  negative     EMJ     -1\n",
       "19      9   🌧️  negative     EMJ     -1"
      ]
     },
     "metadata": {},
     "output_type": "display_data"
    }
   ],
   "source": [
    "# Define positive emoji attributes\n",
    "\n",
    "pos_words = [\n",
    "    '💙', '🌞', '♥', '🌈', '❤️', \n",
    "    '💜',  '✨', '😊', '🙌', '🤗'\n",
    "    ]\n",
    "pos_sentiments = ['positive'] * 10\n",
    "pos_lexicons = ['EMJ'] * 10\n",
    "pos_scores = [1] * 10\n",
    "\n",
    "positive_emojis = pd.DataFrame(\n",
    "    {'word': pos_words,\n",
    "     'sentiment': pos_sentiments,\n",
    "     'lexicon': pos_lexicons,\n",
    "     'score': pos_scores\n",
    "    })\n",
    "\n",
    "# Define negative emoji attributes\n",
    "\n",
    "neg_words = [\n",
    "    '🥺', '😞', '😠', '💢', '😤', \n",
    "    '😭',  '😢', '🖕', '😒', '🌧️'\n",
    "    ]\n",
    "neg_sentiments = ['negative'] * 10\n",
    "neg_lexicons = ['EMJ'] * 10\n",
    "neg_scores = [-1] * 10\n",
    "\n",
    "negative_emojis = pd.DataFrame(\n",
    "    {'word': neg_words,\n",
    "     'sentiment': neg_sentiments,\n",
    "     'lexicon': neg_lexicons,\n",
    "     'score': neg_scores\n",
    "    })\n",
    "\n",
    "# Merge positive and negative df\n",
    "\n",
    "emoji_df = pd.concat([positive_emojis, negative_emojis], axis=0)\n",
    "emoji_df = emoji_df.reset_index()\n",
    "display(emoji_df)\n"
   ]
  },
  {
   "cell_type": "code",
   "execution_count": 18,
   "id": "e30cded1",
   "metadata": {},
   "outputs": [
    {
     "name": "stdout",
     "output_type": "stream",
     "text": [
      "Tidy DF Length Before Emojis:  15133\n",
      "Tidy DF Length After Emojis:  15153\n"
     ]
    }
   ],
   "source": [
    "# Extend tidy_df to include emojis\n",
    "\n",
    "print(\"Tidy DF Length Before Emojis: \", len(tidy_df))\n",
    "tidy_df = pd.concat([tidy_df, emoji_df], axis=0)\n",
    "print(\"Tidy DF Length After Emojis: \", len(tidy_df))"
   ]
  },
  {
   "cell_type": "code",
   "execution_count": 27,
   "id": "1f4774b5",
   "metadata": {},
   "outputs": [
    {
     "name": "stdout",
     "output_type": "stream",
     "text": [
      "100000\n"
     ]
    }
   ],
   "source": [
    "# Sample 100,000 tweets\n",
    "\n",
    "tweet_data = twitter_data.sample(100000)\n",
    "\n",
    "# Calculate sentiment scores\n",
    "\n",
    "tweet_data[\"song_sentiment\"] = tweet_data[\"tokens\"].apply(calc_sentiment)\n",
    "tweet_data.head()\n"
   ]
  },
  {
   "cell_type": "markdown",
   "id": "acf848ba",
   "metadata": {},
   "source": [
    "Q: What is the average sentiment of your two artists? "
   ]
  },
  {
   "cell_type": "code",
   "execution_count": 28,
   "id": "009d0676",
   "metadata": {},
   "outputs": [
    {
     "name": "stdout",
     "output_type": "stream",
     "text": [
      "Cher Average Sentiment:  0.36203513973056634\n",
      "Robyn Average Sentiment:  0.32586039747939893\n"
     ]
    }
   ],
   "source": [
    "# Split tweets by artist\n",
    "\n",
    "cher_tweets = tweet_data[tweet_data[\"artist\"] == \"cher\"]\n",
    "robyn_tweets = tweet_data[tweet_data[\"artist\"] == \"robyn\"]\n",
    "\n",
    "# Get sentiment averages \n",
    "\n",
    "print(\"Cher Average Sentiment: \", cher_tweets[\"song_sentiment\"].mean())\n",
    "print(\"Robyn Average Sentiment: \", robyn_tweets[\"song_sentiment\"].mean())"
   ]
  },
  {
   "cell_type": "markdown",
   "id": "57ae4408",
   "metadata": {},
   "source": [
    "A: Based on the calculations displayed above, the average tweet sentiment for Cher is 0.36 and the average tweet sentiment for Robyn is 0.32. Tweets of Cher's followers tend to be slightly more positive.\n",
    "\n",
    "---"
   ]
  },
  {
   "cell_type": "markdown",
   "id": "fb92eb93",
   "metadata": {},
   "source": [
    "Q: Which positive emoji is the most popular for each artist? Which negative emoji? "
   ]
  },
  {
   "cell_type": "code",
   "execution_count": 57,
   "id": "0bd7ac05",
   "metadata": {},
   "outputs": [
    {
     "name": "stderr",
     "output_type": "stream",
     "text": [
      "/var/folders/t6/cjn4y6mx6lj46_h4_hhsk7740000gn/T/ipykernel_57267/746349220.py:20: SettingWithCopyWarning:\n",
      "\n",
      "\n",
      "A value is trying to be set on a copy of a slice from a DataFrame.\n",
      "Try using .loc[row_indexer,col_indexer] = value instead\n",
      "\n",
      "See the caveats in the documentation: https://pandas.pydata.org/pandas-docs/stable/user_guide/indexing.html#returning-a-view-versus-a-copy\n",
      "\n",
      "/var/folders/t6/cjn4y6mx6lj46_h4_hhsk7740000gn/T/ipykernel_57267/746349220.py:23: SettingWithCopyWarning:\n",
      "\n",
      "\n",
      "A value is trying to be set on a copy of a slice from a DataFrame.\n",
      "Try using .loc[row_indexer,col_indexer] = value instead\n",
      "\n",
      "See the caveats in the documentation: https://pandas.pydata.org/pandas-docs/stable/user_guide/indexing.html#returning-a-view-versus-a-copy\n",
      "\n"
     ]
    },
    {
     "data": {
      "text/plain": [
       "908960     I don't consider myself a particularly ethical...\n",
       "4088       F-Bomb Mom with a Beautiful Autistic Daughter ...\n",
       "1348759                                      #Directioner_👑❤\n",
       "2333966    Gender Fluid. 🔪Top Surgery 8/18/20🔪 Drag King-...\n",
       "1023650    SupaFriend and SupaFan. “My flow is legendary ...\n",
       "                                 ...                        \n",
       "726469     Wide range of interests, shallow depth of know...\n",
       "986286     20 살 (años) Venezuelan koren boy, the mixture ...\n",
       "661885     I love Taylor Swift since I was a junior high....\n",
       "3549413    I Am a Proud Disturbed, Yellowstone, Walking D...\n",
       "1721229                                                    🌱\n",
       "Name: description, Length: 8663, dtype: object"
      ]
     },
     "metadata": {},
     "output_type": "display_data"
    },
    {
     "name": "stdout",
     "output_type": "stream",
     "text": [
      "\n",
      "\n"
     ]
    },
    {
     "data": {
      "text/plain": [
       "351542    Mufc for life, proud to be irish , #BigBangThe...\n",
       "239817    🇵🇭👨🏻‍⚕️Medicine &👨🏻‍🔬Microbiomes. Perpetually ...\n",
       "190515                     💖🍃Federica va, anche su Twitter.\n",
       "30826     “I was gonna punch you but I’m holding wine.” ...\n",
       "283578    Beautiful jewellery created & set just like th...\n",
       "                                ...                        \n",
       "43026     Music lover. Welsh 🏳️‍🌈 ❤️ 📻 Studio Buttons & ...\n",
       "30466     enjoys long, romantic walks down Target and TJ...\n",
       "186596    Hi guys, this is my another account, my first ...\n",
       "299611    Hair & Makeup by Caitlyn Meyer ✨ Professional ...\n",
       "33927                   Nolite Te Bastardes Carborundorum 🌹\n",
       "Name: description, Length: 590, dtype: object"
      ]
     },
     "metadata": {},
     "output_type": "display_data"
    }
   ],
   "source": [
    "# Function to check for emojis\n",
    "\n",
    "def contains_emoji(s):\n",
    "    s = str(s)\n",
    "    emojis = [ch for ch in s if emoji.is_emoji(ch)]\n",
    "    return(len(emojis) > 0)\n",
    "\n",
    "# Function to get 25 most common emojis by artist\n",
    "\n",
    "def emoji_counter(token_arr):\n",
    "    word_counts = Counter(token_arr[0]).most_common()      # obtain word counts\n",
    "    emojis = []\n",
    "    for tup in word_counts:\n",
    "        if emoji.is_emoji(tup[0]):      # use emoji library to check tuples\n",
    "            emojis.append(tup)          # store if emoji\n",
    "    return emojis[0:25]\n",
    "\n",
    "# Check for present emojis in twitter sample\n",
    "\n",
    "cher_tweets['has_emoji'] = cher_tweets[\"description\"].apply(contains_emoji)\n",
    "cher_tweets_ch = cher_tweets[cher_tweets['has_emoji']== True]\n",
    "cher_tokens = cher_tweets[\"tokens\"].tolist()\n",
    "robyn_tweets['has_emoji'] = robyn_tweets[\"description\"].apply(contains_emoji)\n",
    "robyn_tweets_ch = robyn_tweets[robyn_tweets['has_emoji']== True]\n",
    "robyn_tokens = robyn_tweets[\"tokens\"].tolist()\n",
    "\n",
    "# Print data rows with emoji\n",
    "\n",
    "display(cher_tweets_ch[\"description\"])\n",
    "print(\"\\n\")\n",
    "display(robyn_tweets_ch[\"description\"])\n"
   ]
  },
  {
   "cell_type": "code",
   "execution_count": 58,
   "id": "814ca9b9",
   "metadata": {},
   "outputs": [
    {
     "name": "stdout",
     "output_type": "stream",
     "text": [
      "Cher Emojis: \n",
      "\n",
      "[]\n",
      "Robyn Emojis: \n",
      "\n",
      "[]\n"
     ]
    }
   ],
   "source": [
    "# Print Emoji counter\n",
    "\n",
    "cher_em = emoji_counter(cher_tokens)\n",
    "rob_em = emoji_counter(robyn_tokens)\n",
    "\n",
    "print(\"Cher Emojis: \\n\")\n",
    "pprint(cher_em)\n",
    "print(\"Robyn Emojis: \\n\")\n",
    "pprint(rob_em)"
   ]
  },
  {
   "cell_type": "markdown",
   "id": "b6d2c356",
   "metadata": {},
   "source": [
    "\n",
    "A: Based on my selected list of positive and negative emojis, none were present in either the Cher or Robyn twitter dataframes from the 100,000 tweets sampled."
   ]
  }
 ],
 "metadata": {
  "kernelspec": {
   "display_name": "Python 3 (ipykernel)",
   "language": "python",
   "name": "python3"
  },
  "language_info": {
   "codemirror_mode": {
    "name": "ipython",
    "version": 3
   },
   "file_extension": ".py",
   "mimetype": "text/x-python",
   "name": "python",
   "nbconvert_exporter": "python",
   "pygments_lexer": "ipython3",
   "version": "3.10.4"
  }
 },
 "nbformat": 4,
 "nbformat_minor": 5
}
